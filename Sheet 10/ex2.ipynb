{
 "cells": [
  {
   "cell_type": "code",
   "execution_count": 1,
   "metadata": {},
   "outputs": [],
   "source": [
    "from qiskit import QuantumCircuit, QuantumRegister, ClassicalRegister ,transpile\n",
    "from qiskit_aer import AerSimulator\n",
    "import numpy as np\n",
    "from numpy import pi\n",
    "from qiskit.quantum_info import Pauli"
   ]
  },
  {
   "cell_type": "markdown",
   "metadata": {},
   "source": [
    "The Z gate is definied as \n",
    "$$\n",
    "   Z= \\begin{bmatrix}\n",
    "    1&0\\\\\n",
    "    0&-1\\\\\n",
    "    \\end{bmatrix}\n",
    "$$\n",
    "Thus if qubit is measured is state $\\ket{0}$ the corresponding eigenvalue is $1$, if it is measured in the state $\\ket{1}$ the eigenvalue is $-1$.\n"
   ]
  },
  {
   "cell_type": "markdown",
   "metadata": {},
   "source": [
    "For the rest of this sheet i assume that the operator $g_2$ is a Pauli String, i.e, $g_2=IXZZX = I_5 X_4 Z_3 Z_2 X_1$, where the subscript corresponds to the quibt the gate is applied on. The Pauli class of qiskit is used to make the handling a little bit easier."
   ]
  },
  {
   "cell_type": "code",
   "execution_count": 2,
   "metadata": {},
   "outputs": [],
   "source": [
    "pauli_string=\"IXZZX\""
   ]
  },
  {
   "cell_type": "markdown",
   "metadata": {},
   "source": [
    "The circuit will return $x$, sucht that $(-1)^x$ is the eigenvalue of the operator."
   ]
  },
  {
   "cell_type": "code",
   "execution_count": 3,
   "metadata": {},
   "outputs": [],
   "source": [
    "def f(x):\n",
    "    return np.complex64(-1)**(x)"
   ]
  },
  {
   "cell_type": "markdown",
   "metadata": {},
   "source": [
    "This is the  function will construct $g_2$:"
   ]
  },
  {
   "cell_type": "code",
   "execution_count": 4,
   "metadata": {},
   "outputs": [],
   "source": [
    "def pauli_measurement(circuit, pauli, qr,anchilla, ):\n",
    "\n",
    "    num_qubits = pauli.num_qubits\n",
    "    for qubit_idx in range(num_qubits):\n",
    "        if pauli[qubit_idx] == Pauli('I'):\n",
    "            continue\n",
    "        if pauli.x[qubit_idx]:\n",
    "            if pauli.z[qubit_idx]:\n",
    "                # Measure Y\n",
    "                circuit.rx(pi/2,qubit_idx)\n",
    "            else:\n",
    "                # Measure X\n",
    "                circuit.h(qr[qubit_idx]) \n",
    "        circuit.cx(qubit_idx,anchilla)\n",
    "\n",
    "    return circuit"
   ]
  },
  {
   "cell_type": "code",
   "execution_count": 5,
   "metadata": {},
   "outputs": [],
   "source": [
    "qr = QuantumRegister(5,'x')\n",
    "qr_anchil = QuantumRegister(1,'a')\n",
    "cr = ClassicalRegister(1)\n",
    "sim = AerSimulator(method='statevector')"
   ]
  },
  {
   "cell_type": "markdown",
   "metadata": {},
   "source": [
    "Below is the circuit to measure $g_2$"
   ]
  },
  {
   "cell_type": "code",
   "execution_count": 6,
   "metadata": {},
   "outputs": [
    {
     "data": {
      "image/png": "[encoded data removed]",
      "text/plain": [
       "<Figure size 620.739x618.722 with 1 Axes>"
      ]
     },
     "execution_count": 6,
     "metadata": {},
     "output_type": "execute_result"
    }
   ],
   "source": [
    "qc = QuantumCircuit(qr,qr_anchil,cr)\n",
    "pauli_measurement(qc, Pauli(pauli_string), qr,qr_anchil   )\n",
    "qc.measure(qc.qubits[-1],cr)\n",
    "qc.draw('mpl')"
   ]
  },
  {
   "cell_type": "markdown",
   "metadata": {},
   "source": [
    "In order to show that the circuit realy works, I calculate the output for every eigenvoector of the operator $g_2$ and compare expected and circuit output."
   ]
  },
  {
   "cell_type": "markdown",
   "metadata": {},
   "source": [
    "To construct the eigenvectors numpy is used:"
   ]
  },
  {
   "cell_type": "code",
   "execution_count": 7,
   "metadata": {},
   "outputs": [],
   "source": [
    "operator = Pauli(pauli_string).to_matrix()"
   ]
  },
  {
   "cell_type": "code",
   "execution_count": 8,
   "metadata": {},
   "outputs": [],
   "source": [
    "evs,evec = np.linalg.eig(operator)"
   ]
  },
  {
   "cell_type": "markdown",
   "metadata": {},
   "source": [
    "Below the circuit is tested, when it runs without AssertionError, all conditions are fullfilled and the circuit works as expected. Due to numericall errors `np.isclose` is uesd instead of `==`."
   ]
  },
  {
   "cell_type": "code",
   "execution_count": 9,
   "metadata": {},
   "outputs": [],
   "source": [
    "i=0\n",
    "for vec,ev in zip(evec.T,evs):\n",
    "    qc = QuantumCircuit(qr,qr_anchil,cr)\n",
    "    qc.initialize(vec, qr)\n",
    "    pauli_measurement(qc, Pauli(pauli_string), qr,qr_anchil   )\n",
    "    qc.measure(qr_anchil,cr)\n",
    "    counts = sim.run(transpile(qc, sim),shots=1000).result().get_counts(0)\n",
    "    assert len(list(counts.keys())) ==1\n",
    "    assert np.isclose(f(int(list(counts.keys())[0])), (ev)), f\"@{i}: qc={f(int(list(counts.keys())[0]))}, ev = {ev} \"\n",
    "    i+=1"
   ]
  },
  {
   "cell_type": "markdown",
   "metadata": {},
   "source": [
    "**6)** The Operator $\\hat{\\mathcal{O}}$ which maps an eigenstate with eigenvalue +1 to an eigenstate with eigenvalue -1 and vice versa, has to anticommute with $g_2$.\n",
    "$$\n",
    "g_2\\ket{\\lambda_\\pm}= \\pm \\ket{\\lambda_\\pm}\\\\\n",
    "g_2 \\hat{\\mathcal{O}}\\ket{\\lambda_\\pm} = -\\hat{\\mathcal{O}} g_2\\ket{\\lambda_\\pm} =\\mp \\hat{\\mathcal{O}} \\ket{\\lambda_\\pm} = \\mp\\ket{\\lambda_\\mp}\n",
    "\n",
    "$$"
   ]
  },
  {
   "cell_type": "markdown",
   "metadata": {},
   "source": [
    "One suitabble choice for $\\hat{\\mathcal{O}}$ is "
   ]
  },
  {
   "cell_type": "code",
   "execution_count": 10,
   "metadata": {},
   "outputs": [],
   "source": [
    "O = Pauli(\"IXZXX\")"
   ]
  },
  {
   "cell_type": "markdown",
   "metadata": {},
   "source": [
    "To check if it really anticommutes, I use qiskit:"
   ]
  },
  {
   "cell_type": "code",
   "execution_count": 11,
   "metadata": {},
   "outputs": [
    {
     "data": {
      "text/plain": [
       "np.True_"
      ]
     },
     "execution_count": 11,
     "metadata": {},
     "output_type": "execute_result"
    }
   ],
   "source": [
    "Pauli(pauli_string).anticommutes(O)"
   ]
  },
  {
   "cell_type": "markdown",
   "metadata": {},
   "source": [
    "To check if the property holds for every Eigenstate a loop as above is used. First a eigenstate with known eigenvalue is initialized, than $\\hat{\\mathcal{O}}$ is applied, finally $g_2$ is measured"
   ]
  },
  {
   "cell_type": "code",
   "execution_count": 12,
   "metadata": {},
   "outputs": [],
   "source": [
    "i =0\n",
    "for vec,ev in zip(evec.T,evs):\n",
    "    qc = QuantumCircuit(qr,qr_anchil,cr)\n",
    "    qc.initialize(vec, qr)\n",
    "    qc.append(O.to_instruction(),qr)\n",
    "    pauli_measurement(qc, Pauli(pauli_string), qr,qr_anchil   )\n",
    "    qc.measure(qr_anchil,cr)\n",
    "    counts = sim.run(transpile(qc, sim),shots=1000).result().get_counts(0)\n",
    "    assert len(list(counts.keys())) ==1\n",
    "    assert np.isclose(f(int(list(counts.keys())[0])), -1* (ev)), f\"@{i}: qc={f(int(list(counts.keys())[0]))}, ev = {ev} \"\n",
    "    i+=1"
   ]
  },
  {
   "cell_type": "markdown",
   "metadata": {},
   "source": [
    "Note the additonal -1* in the last `assert`."
   ]
  }
 ],
 "metadata": {
  "kernelspec": {
   "display_name": "qiskit1",
   "language": "python",
   "name": "python3"
  },
  "language_info": {
   "codemirror_mode": {
    "name": "ipython",
    "version": 3
   },
   "file_extension": ".py",
   "mimetype": "text/x-python",
   "name": "python",
   "nbconvert_exporter": "python",
   "pygments_lexer": "ipython3",
   "version": "3.11.10"
  }
 },
 "nbformat": 4,
 "nbformat_minor": 2
}
