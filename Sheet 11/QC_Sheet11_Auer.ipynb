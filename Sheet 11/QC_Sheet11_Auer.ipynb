{
 "cells": [
  {
   "cell_type": "markdown",
   "metadata": {},
   "source": [
    "The implementation here follows more or less the one from the lecture "
   ]
  },
  {
   "cell_type": "code",
   "execution_count": 54,
   "metadata": {},
   "outputs": [],
   "source": [
    "import numpy as np\n",
    "from fractions import Fraction\n",
    "import qiskit.visualization\n",
    "from qiskit import QuantumCircuit, QuantumRegister, ClassicalRegister\n",
    "from qiskit.circuit.library import QFT\n",
    "from qiskit_aer import AerSimulator\n",
    "from matplotlib import pyplot as plt"
   ]
  },
  {
   "cell_type": "code",
   "execution_count": 55,
   "metadata": {},
   "outputs": [],
   "source": [
    "def sim(circuit, simulator, shots,x_val,y_val,N,n_qubits):\n",
    "    display(qiskit.visualization.plot_distribution(simGetCounts(circuit, simulator, shots,), title=rf\" {x_val}+{y_val} mod {N} = ${(x_val+y_val)%N }_{{10}}$ = ${((x_val+y_val)%N):0{n_qubits}b}_{{2}}$ \"))\n",
    "def simMul(circuit, simulator, shots,x_val,y_val,N,n_qubits):\n",
    "    display(qiskit.visualization.plot_distribution(simGetCounts(circuit, simulator, shots,), title=rf\" {x_val}*{y_val} mod {N} = ${(x_val*y_val)%N }_{{10}}$ = ${((x_val*y_val)%N):0{n_qubits}b}_{{2}}$ \"))\n",
    "def simMulExp(circuit, simulator, shots,x_val,y_val,a,N,n_qubits):\n",
    "    display(qiskit.visualization.plot_distribution(simGetCounts(circuit, simulator, shots,), title=rf\" {x_val}*{y_val}^{a} mod {N} = ${(x_val*y_val**a)%N }_{{10}}$ = ${((x_val*y_val**a)%N):0{n_qubits}b}_{{2}}$ \"))\n",
    "\n",
    "\n",
    "def simGetCounts(circuit, simulator, shots):\n",
    "    return simulator.run(qiskit.transpile(circuit, simulator),shots=shots).result().get_counts(0)"
   ]
  },
  {
   "cell_type": "code",
   "execution_count": 56,
   "metadata": {},
   "outputs": [],
   "source": [
    "def adder(n_qubits,y):\n",
    "    qr = QuantumRegister(n_qubits,name=\"q\")\n",
    "    qc = QuantumCircuit(qr,name=\"Add\")\n",
    "    qft = QFT(n_qubits, do_swaps=False)\n",
    "    qc.append(qft,qr )\n",
    "    \n",
    "    # Apply controlled phase rotations\n",
    "    for i in range(n_qubits):\n",
    "            theta = 2 * np.pi*y / (2 ** (i + 1))\n",
    "            qc.p(theta, qr[i])\n",
    "    # Apply inverse QFT \n",
    "    iqft = QFT(n_qubits, do_swaps=False).inverse()\n",
    "    qc.append(iqft, qr)\n",
    "\n",
    "    return qc.to_instruction()"
   ]
  },
  {
   "cell_type": "code",
   "execution_count": 57,
   "metadata": {},
   "outputs": [],
   "source": [
    "def isLess(n_qubits,y):\n",
    "    \"\"\"\n",
    "    the last 2 qubits are a and c respectivly , the other are the data register , the final result is saved in c.\n",
    "    \"\"\"\n",
    "    qubits = list(range(n_qubits))\n",
    "    x = qubits[:-2]\n",
    "    a = qubits[-2]\n",
    "    c = qubits[-1]\n",
    "    qc = QuantumCircuit(n_qubits,name=\"isLess\")\n",
    "    add_plus_y = adder(n_qubits-1,y)\n",
    "    add_minus_y = adder(n_qubits-1,-y)\n",
    "    qc.append(add_minus_y, x+ [a])\n",
    "    qc.cx(a,c)\n",
    "    qc.append(add_plus_y, x+ [a])\n",
    "    return qc.to_instruction()"
   ]
  },
  {
   "cell_type": "code",
   "execution_count": 58,
   "metadata": {},
   "outputs": [],
   "source": [
    "def Cadder(n_qubits,y):\n",
    "    \"\"\"\n",
    "    the first qubit is the control qubit, the rest are data qubits\n",
    "    \"\"\"\n",
    "    qr = QuantumRegister(n_qubits-1,name=\"q\")\n",
    "    control = QuantumRegister(1,name=\"control\")\n",
    "    qc = QuantumCircuit(control,qr,name=\"CAdd\")\n",
    "    qft = QFT(n_qubits-1, do_swaps=False)\n",
    "    qc.append(qft,qr )\n",
    "    \n",
    "    # Apply controlled phase rotations\n",
    "    for i in range(n_qubits-1):\n",
    "            theta = 2 * np.pi*y / (2 ** (i + 1))\n",
    "            qc.cp(theta,control, qr[i])\n",
    "    # Apply inverse QFT \n",
    "    iqft = QFT(n_qubits-1, do_swaps=False).inverse()\n",
    "    qc.append(iqft, qr)\n",
    "\n",
    "    return qc.to_instruction()"
   ]
  },
  {
   "cell_type": "code",
   "execution_count": 59,
   "metadata": {},
   "outputs": [],
   "source": [
    "def CisLess(n_qubits,y):\n",
    "    \"\"\"\n",
    "    needs n+3 qubits for n bit number\n",
    "    the first qubit is the control, qubit,the last 2 qubits are a and c respectivly , the other are the data register , the final result is saved in c.\n",
    "    \"\"\"\n",
    "\n",
    "    qubits = list(range(n_qubits))\n",
    "    control = qubits[0]\n",
    "    x = qubits[1:-2]\n",
    "    a = qubits[-2]\n",
    "    c = qubits[-1]\n",
    "    qc = QuantumCircuit(n_qubits,name=\"isLess\")\n",
    "    add_plus_y = Cadder(n_qubits-1,y)\n",
    "    add_minus_y = Cadder(n_qubits-1,-y)\n",
    "    qc.append(add_minus_y,[control]+ x+ [a])\n",
    "    qc.cx(a,c)\n",
    "    qc.append(add_plus_y, [control]+x+ [a])\n",
    "    return qc.to_instruction()"
   ]
  },
  {
   "cell_type": "markdown",
   "metadata": {},
   "source": [
    "## Controlled adder mod N"
   ]
  },
  {
   "cell_type": "code",
   "execution_count": 60,
   "metadata": {},
   "outputs": [],
   "source": [
    "def CaddModN(n_qubits, y,N):\n",
    "    \n",
    "    \"\"\"\n",
    "    needs n+4 qubits for an n bit long number\n",
    "    the first qubit is the control, qubit,the last 3 qubits are a , c1 and c2 respectivly , the other are the data register , the final result is saved in x.\n",
    "    \"\"\"\n",
    "    qubits = list(range(n_qubits))\n",
    "    control = qubits[0]\n",
    "    x = qubits[1:-3]\n",
    "    a = qubits[-3]\n",
    "    c1 = qubits[-2]\n",
    "    c2 = qubits[-1]\n",
    "    y = y%N\n",
    "    \n",
    "\n",
    "    qc = QuantumCircuit(n_qubits,name=\"CaddModN\")\n",
    "    isLess_N = CisLess(n_qubits-1,N)\n",
    "    isLess_N_minus_y = CisLess(n_qubits-1,N-y)\n",
    "    isLess_y = CisLess(n_qubits-1,y)\n",
    "    add_y_minus_N = Cadder(n_qubits-3,y-N) #need to be with control a\n",
    "    add_y = Cadder(n_qubits-3,y) #need to be with control a\n",
    "    qc.append(isLess_N,[control]+x+[a]+[c1])\n",
    "    qc.append(isLess_N_minus_y,[control]+x+[a]+[c2])\n",
    "\n",
    "    qc.x(c2)\n",
    "    qc.ccx(c1,c2,a)\n",
    "    qc.x(c2)\n",
    "    qc.append(add_y_minus_N,[a]+x)\n",
    "    qc.x(c2)\n",
    "    qc.ccx(c1,c2,a)\n",
    "    qc.x(c2)\n",
    "\n",
    "    qc.ccx(c1,c2,a)\n",
    "    qc.append(add_y,[a]+x)\n",
    "    qc.ccx(c1,c2,a)\n",
    "\n",
    "\n",
    "    qc.append(isLess_y,[control]+x+[a]+[c2])\n",
    "    qc.cx(c1,c2)\n",
    "    qc.append(isLess_N,[control]+x+[a]+[c1])\n",
    "    return qc.to_instruction()\n"
   ]
  },
  {
   "cell_type": "code",
   "execution_count": 61,
   "metadata": {},
   "outputs": [],
   "source": [
    "x_val =4\n",
    "y_val = 9\n",
    "N_val=5\n",
    "n_qubits = max(int(np.ceil(np.log2(x_val)+1)),int(np.ceil(np.log2(N_val)+1)) ) "
   ]
  },
  {
   "cell_type": "code",
   "execution_count": 62,
   "metadata": {},
   "outputs": [
    {
     "data": {
      "image/png": "[encoded data removed]",
      "text/plain": [
       "<Figure size 1271.31x785.944 with 1 Axes>"
      ]
     },
     "execution_count": 62,
     "metadata": {},
     "output_type": "execute_result"
    }
   ],
   "source": [
    "qr = QuantumRegister(n_qubits,'x')\n",
    "a = QuantumRegister(1,'a')\n",
    "c = QuantumRegister(2,'c')\n",
    "control = QuantumRegister(1,'control')\n",
    "circ = QuantumCircuit(control,qr,a,c)\n",
    "for i in range(n_qubits):\n",
    "        if (x_val & (1 << i)):\n",
    "            circ.x(qr[i])\n",
    "circ.x(control)\n",
    "circ.barrier()\n",
    "\n",
    "circ.append(CaddModN(n_qubits+4,y_val,N_val),circ.qubits[:])\n",
    "circ.measure_all()\n",
    "circ.draw('mpl')\n"
   ]
  },
  {
   "cell_type": "code",
   "execution_count": 63,
   "metadata": {},
   "outputs": [
    {
     "data": {
      "image/png": "[encoded data removed]",
      "text/plain": [
       "<Figure size 700x500 with 1 Axes>"
      ]
     },
     "metadata": {},
     "output_type": "display_data"
    }
   ],
   "source": [
    "sim(circ,AerSimulator(),1000,x_val,y_val,N_val,5)"
   ]
  },
  {
   "cell_type": "markdown",
   "metadata": {},
   "source": [
    "## Controlled multiplier mod N"
   ]
  },
  {
   "cell_type": "code",
   "execution_count": 64,
   "metadata": {},
   "outputs": [],
   "source": [
    "def summands(y,N,n_qubits):\n",
    "    r = np.zeros(n_qubits)\n",
    "    for i in range(0,n_qubits):\n",
    "        s = 0\n",
    "        for j in range(0,n_qubits):\n",
    "            s = s+int(np.binary_repr(y,n_qubits)[::-1][j])*2**(i+j)\n",
    "        r[i] = s % N\n",
    "    return r"
   ]
  },
  {
   "cell_type": "code",
   "execution_count": 65,
   "metadata": {},
   "outputs": [],
   "source": [
    "def eEa(a,b):\n",
    "    if (a==0): \n",
    "        return (b,0,1)\n",
    "    gcd, x,y, = eEa(b%a,a)\n",
    "    return (gcd,y-(b//a)*x,x)\n",
    "\n",
    "def moduloinverse(a,n):\n",
    "    gcd, x,_ = eEa(a,n)\n",
    "    if gcd !=1:\n",
    "        raise ValueError(\"Mod inverse does not exists\")\n",
    "    return x%n"
   ]
  },
  {
   "cell_type": "code",
   "execution_count": 66,
   "metadata": {},
   "outputs": [],
   "source": [
    "def CmultModN(n_qubits,y,N):\n",
    "    \"\"\"\n",
    "    needs a 1+n+n+4 qubits for n qubit number\n",
    "    with the layout control+data+2nd data,auxillary\n",
    "    \"\"\"\n",
    "    qubits = list(range(n_qubits))\n",
    "    n = (n_qubits-5)//2 \n",
    "    control = qubits[0:1]      # length 1\n",
    "    x1 = qubits[1:n+1]   # length n\n",
    "    x2 = qubits[(n+1):2*n+1] # length n  \n",
    "    a = qubits[(2*n+1):]\n",
    "    s = summands(y,N,n)\n",
    "\n",
    "    qc = QuantumCircuit(n_qubits,name=f\"Cmult {y} Mod{N}\")\n",
    "\n",
    "    for i in range(n):\n",
    "        qc.ccx(control,x1[i],a[3])\n",
    "        qc.append(CaddModN(n+4,s[i],N),[a[3]]+x2+[a[2]]+a[0:2])\n",
    "        qc.ccx(control,x1[i],a[3])\n",
    "    for i in range(n):\n",
    "        qc.cswap(control,x1[i],x2[i])\n",
    "    y_inv  = N-moduloinverse(y,N)\n",
    "    s_inv = summands(y_inv,N,n)\n",
    "    for i in range(n):\n",
    "        qc.ccx(control,x1[i],a[3])\n",
    "        qc.append(CaddModN(n+4,s_inv[i],N),[a[3]]+x2+[a[2]]+a[0:2])\n",
    "        qc.ccx(control,x1[i],a[3])\n",
    "    return qc.to_instruction()"
   ]
  },
  {
   "cell_type": "code",
   "execution_count": 67,
   "metadata": {},
   "outputs": [
    {
     "data": {
      "text/plain": [
       "4"
      ]
     },
     "execution_count": 67,
     "metadata": {},
     "output_type": "execute_result"
    }
   ],
   "source": [
    "x_val =2\n",
    "y_val = 9\n",
    "N_val = 5\n",
    "# ensures that x register is large enough to fit arbitrary mod N operation\n",
    "n_qubits = max(int(np.ceil(np.log2(x_val)+1)),int(np.ceil(np.log2(N_val)+1)) ) \n",
    "n_qubits"
   ]
  },
  {
   "cell_type": "code",
   "execution_count": 68,
   "metadata": {},
   "outputs": [],
   "source": [
    "qr = QuantumRegister(n_qubits,'x')\n",
    "qr1 = QuantumRegister(n_qubits,'z')\n",
    "a = QuantumRegister(4,'a')\n",
    "# c = QuantumRegister(2,'c')\n",
    "control = QuantumRegister(1,'control')\n",
    "circ1 = QuantumCircuit(control,qr,qr1,a)\n",
    "for i in range(n_qubits):\n",
    "        if (x_val & (1 << i)):\n",
    "            circ1.x(qr[i])\n",
    "circ1.x(control[0])\n",
    "circ1.barrier()\n",
    "circ1.append(CmultModN(circ1.num_qubits,y_val,N_val),circ1.qubits)\n",
    "circ1.measure_all()"
   ]
  },
  {
   "cell_type": "code",
   "execution_count": 69,
   "metadata": {},
   "outputs": [
    {
     "data": {
      "image/png": "[encoded data removed]",
      "text/plain": [
       "<Figure size 700x500 with 1 Axes>"
      ]
     },
     "metadata": {},
     "output_type": "display_data"
    }
   ],
   "source": [
    "simMul(circ1,AerSimulator(),1000,x_val,y_val,N_val,n_qubits)"
   ]
  },
  {
   "cell_type": "markdown",
   "metadata": {},
   "source": [
    "## Controlled Exponantiation mod N\n",
    "just for testing purposes."
   ]
  },
  {
   "cell_type": "code",
   "execution_count": 70,
   "metadata": {},
   "outputs": [],
   "source": [
    "def CexpModN(n_qubits,y,a1,N):\n",
    "    qubits = list(range(n_qubits))\n",
    "    n = (n_qubits-5)//2 \n",
    "    control = qubits[0:1]      # length 1\n",
    "    x1 = qubits[1:n+1]   # length n\n",
    "    x2 = qubits[(n+1):2*n+1] # length n  \n",
    "    a = qubits[(2*n+1):]\n",
    "    qc = QuantumCircuit(n_qubits,name=rf\"C ${y}^{a1}$ Mod${N}$\")\n",
    "    gate = CmultModN(1+n+n+4,y,N)\n",
    "    for _ in range(a1):\n",
    "        qc.append(gate,control+x1+x2+a)\n",
    "    return qc.to_instruction()"
   ]
  },
  {
   "cell_type": "code",
   "execution_count": 71,
   "metadata": {},
   "outputs": [
    {
     "data": {
      "text/plain": [
       "4"
      ]
     },
     "execution_count": 71,
     "metadata": {},
     "output_type": "execute_result"
    }
   ],
   "source": [
    "x_val =2\n",
    "y_val = 3\n",
    "N_val=7\n",
    "# ensures that x register is large enough to fit arbitrary mod N operation\n",
    "n_qubits = max(int(np.ceil(np.log2(x_val)+1)),int(np.ceil(np.log2(N_val)+1)) ) \n",
    "n_qubits"
   ]
  },
  {
   "cell_type": "code",
   "execution_count": 72,
   "metadata": {},
   "outputs": [],
   "source": [
    "qr = QuantumRegister(n_qubits,'x')\n",
    "qr1 = QuantumRegister(n_qubits,'z')\n",
    "a = QuantumRegister(4,'a')\n",
    "# c = QuantumRegister(2,'c')\n",
    "control = QuantumRegister(1,'control')\n",
    "circ2 = QuantumCircuit(control,qr,qr1,a)\n",
    "for i in range(n_qubits):\n",
    "        if (x_val & (1 << i)):\n",
    "            circ2.x(qr[i])\n",
    "circ2.x(control[0])\n",
    "circ2.barrier()\n",
    "circ2.append(CexpModN(circ2.num_qubits,y_val,2**3,N_val),circ2.qubits)\n",
    "circ2.measure_all()"
   ]
  },
  {
   "cell_type": "code",
   "execution_count": 73,
   "metadata": {},
   "outputs": [
    {
     "data": {
      "image/png": "[encoded data removed]",
      "text/plain": [
       "<Figure size 700x500 with 1 Axes>"
      ]
     },
     "metadata": {},
     "output_type": "display_data"
    }
   ],
   "source": [
    "simMulExp(circ2, AerSimulator(), 1024,x_val,y_val,2**3,N_val,n_qubits)"
   ]
  },
  {
   "cell_type": "markdown",
   "metadata": {},
   "source": [
    "## Phase estimation"
   ]
  },
  {
   "cell_type": "code",
   "execution_count": 74,
   "metadata": {},
   "outputs": [],
   "source": [
    "def phase_estimation(n_qubits,t,n,m,N):\n",
    "    \"\"\"\n",
    "    expectsd a circuit of t+n+n+4 qubits\n",
    "\n",
    "    with registers qr, qrL,qrL2,a\n",
    "\n",
    "    qr is the uper part of the phase estimation\n",
    "    qrL is the lower part, here is the result of the multimlication saved\n",
    "    qrL2 are the helper qubits of qrL\n",
    "    a are the anchillas\n",
    "    \n",
    "    \"\"\"\n",
    "    qubits = list(range(n_qubits))\n",
    "    qr = qubits[:t]\n",
    "    qrL = qubits[t:t+n]\n",
    "    qrL2 = qubits[t+n: t+2*n]\n",
    "    a = qubits[t+2*n:]\n",
    "    qc = QuantumCircuit(n_qubits,t,name=\"Phase Estimation\")\n",
    "    qc.h(qr)\n",
    "    qc.x(qrL[0]) #hier muss eigenlich 0 hin\n",
    "    gate = CmultModN(1+n+n+4,m,N)\n",
    "    for i in range(t):\n",
    "        for _ in range(2**i):\n",
    "            qc.append(gate,[qr[i]]+qrL+qrL2+a)\n",
    "    qc.append(QFT(t, inverse=True),qr)\n",
    "    qc.measure(qr,qc.clbits)\n",
    "    return qc.to_instruction()"
   ]
  },
  {
   "cell_type": "code",
   "execution_count": 75,
   "metadata": {},
   "outputs": [],
   "source": [
    "n = 3\n",
    "t = 2*n +3\n",
    "# t=2"
   ]
  },
  {
   "cell_type": "code",
   "execution_count": 76,
   "metadata": {},
   "outputs": [
    {
     "data": {
      "text/plain": [
       "<qiskit.circuit.instructionset.InstructionSet at 0x7f6326aabdc0>"
      ]
     },
     "execution_count": 76,
     "metadata": {},
     "output_type": "execute_result"
    }
   ],
   "source": [
    "qr = QuantumRegister(t,'t') \n",
    "qrL = QuantumRegister(n,'L') \n",
    "qrL2 = QuantumRegister(n,'L2')\n",
    "a = QuantumRegister(4,'a') \n",
    "cl = ClassicalRegister(t)\n",
    "# cl1 = ClassicalRegister(n)\n",
    "qc = QuantumCircuit(qr,qrL,qrL2,a,cl)\n",
    "qc.append(phase_estimation(t+n+n+4,t,n,3,7),qc.qubits,cl)\n",
    "# qc.measure_all()"
   ]
  },
  {
   "cell_type": "code",
   "execution_count": 77,
   "metadata": {},
   "outputs": [],
   "source": [
    "result = simGetCounts(qc,AerSimulator(),10000)"
   ]
  },
  {
   "cell_type": "code",
   "execution_count": 78,
   "metadata": {},
   "outputs": [
    {
     "data": {
      "text/plain": [
       "{'110001100': 1,\n",
       " '101101101': 1,\n",
       " '111100101': 1,\n",
       " '001000111': 1,\n",
       " '110111110': 1,\n",
       " '000100010': 1,\n",
       " '011001100': 1,\n",
       " '001101100': 1,\n",
       " '010010001': 1,\n",
       " '001101011': 1,\n",
       " '110100001': 1,\n",
       " '110100011': 2,\n",
       " '001100011': 3,\n",
       " '110101010': 297,\n",
       " '001100000': 1,\n",
       " '101010010': 16,\n",
       " '010110000': 4,\n",
       " '010110011': 2,\n",
       " '001000100': 1,\n",
       " '110111001': 2,\n",
       " '010001010': 1,\n",
       " '010101110': 19,\n",
       " '001100010': 1,\n",
       " '011000001': 2,\n",
       " '101110110': 1,\n",
       " '010100011': 3,\n",
       " '001011001': 14,\n",
       " '010000010': 1,\n",
       " '101000111': 3,\n",
       " '101010000': 3,\n",
       " '101011010': 4,\n",
       " '010101111': 6,\n",
       " '010101100': 60,\n",
       " '001010001': 11,\n",
       " '101001100': 2,\n",
       " '110101011': 1136,\n",
       " '101011001': 10,\n",
       " '001010011': 18,\n",
       " '010100110': 7,\n",
       " '001010100': 72,\n",
       " '010100111': 4,\n",
       " '110101100': 71,\n",
       " '010101011': 1118,\n",
       " '010010110': 1,\n",
       " '101010100': 75,\n",
       " '110101101': 22,\n",
       " '010101101': 25,\n",
       " '110100110': 3,\n",
       " '001100001': 3,\n",
       " '010100100': 1,\n",
       " '101011000': 19,\n",
       " '010101000': 18,\n",
       " '001010101': 1176,\n",
       " '001010110': 269,\n",
       " '101100101': 1,\n",
       " '101010011': 32,\n",
       " '001101000': 1,\n",
       " '101010111': 41,\n",
       " '100000000': 1692,\n",
       " '110101001': 60,\n",
       " '101001001': 3,\n",
       " '110110000': 1,\n",
       " '110000000': 2,\n",
       " '010100101': 5,\n",
       " '000111011': 1,\n",
       " '110100010': 4,\n",
       " '010111100': 1,\n",
       " '001010000': 4,\n",
       " '001010010': 8,\n",
       " '000100011': 1,\n",
       " '001000101': 1,\n",
       " '111000000': 2,\n",
       " '110110111': 1,\n",
       " '110100111': 7,\n",
       " '010110001': 3,\n",
       " '101100100': 1,\n",
       " '010101010': 284,\n",
       " '101001110': 3,\n",
       " '001001100': 2,\n",
       " '010101001': 32,\n",
       " '001001111': 3,\n",
       " '101001010': 2,\n",
       " '010111110': 1,\n",
       " '001011000': 18,\n",
       " '101010110': 293,\n",
       " '010100010': 2,\n",
       " '100100110': 1,\n",
       " '001011010': 2,\n",
       " '101001111': 2,\n",
       " '110101000': 12,\n",
       " '110110100': 1,\n",
       " '110001111': 1,\n",
       " '110011101': 1,\n",
       " '100101011': 1,\n",
       " '101011101': 6,\n",
       " '011001000': 1,\n",
       " '101011100': 3,\n",
       " '001100111': 1,\n",
       " '110001110': 1,\n",
       " '110010101': 2,\n",
       " '001001110': 1,\n",
       " '101001000': 1,\n",
       " '000110011': 1,\n",
       " '110110001': 3,\n",
       " '110101111': 4,\n",
       " '001001010': 2,\n",
       " '010110110': 1,\n",
       " '110010000': 1,\n",
       " '010000110': 1,\n",
       " '011011100': 1,\n",
       " '001011011': 5,\n",
       " '110100100': 1,\n",
       " '001001011': 1,\n",
       " '101011011': 4,\n",
       " '110000111': 1,\n",
       " '010100001': 2,\n",
       " '010111101': 1,\n",
       " '111001000': 2,\n",
       " '101010001': 8,\n",
       " '001001101': 1,\n",
       " '001001001': 1,\n",
       " '101011111': 3,\n",
       " '111011011': 1,\n",
       " '101100110': 2,\n",
       " '011000111': 1,\n",
       " '101000100': 1,\n",
       " '110110010': 4,\n",
       " '110010011': 2,\n",
       " '110110011': 4,\n",
       " '110001010': 1,\n",
       " '001101001': 1,\n",
       " '001010111': 40,\n",
       " '010110111': 1,\n",
       " '001011100': 3,\n",
       " '011000011': 1,\n",
       " '110000110': 1,\n",
       " '110100101': 1,\n",
       " '110011110': 1,\n",
       " '110101110': 6,\n",
       " '101010101': 1140,\n",
       " '000000000': 1662,\n",
       " '110010100': 1,\n",
       " '010011101': 1,\n",
       " '110011100': 1,\n",
       " '010110100': 2,\n",
       " '010011111': 1,\n",
       " '111100110': 1,\n",
       " '101101100': 1,\n",
       " '101100011': 1,\n",
       " '000100100': 1,\n",
       " '101100001': 2,\n",
       " '001011110': 2,\n",
       " '001100101': 1,\n",
       " '001110001': 1}"
      ]
     },
     "execution_count": 78,
     "metadata": {},
     "output_type": "execute_result"
    }
   ],
   "source": [
    "result"
   ]
  },
  {
   "cell_type": "code",
   "execution_count": 79,
   "metadata": {},
   "outputs": [],
   "source": [
    "def continued_fraction_iterative1(x, iter=5000):\n",
    "    if iter == 0 or isinstance(x, int):\n",
    "        return int(np.floor(x))\n",
    "    \n",
    "    # Store the terms in reverse order\n",
    "    terms = []\n",
    "    current_x = x\n",
    "    \n",
    "    # Calculate all floor values first\n",
    "    for _ in range(iter):\n",
    "        floor_val = int(np.floor(current_x))\n",
    "        terms.append(floor_val)\n",
    "        \n",
    "        # Break if we have a whole number\n",
    "        if np.isclose(np.mod(current_x, 1), 0):\n",
    "            break\n",
    "            \n",
    "        current_x = 1/np.mod(current_x, 1)\n",
    "    \n",
    "    # Build the fraction from bottom up\n",
    "    result = terms[-1]  # Start with the last term\n",
    "    \n",
    "    # Work backwards through the terms\n",
    "    for term in reversed(terms[:-1]):\n",
    "        result = term + Fraction(1, result)\n",
    "    \n",
    "    return result"
   ]
  },
  {
   "cell_type": "code",
   "execution_count": 80,
   "metadata": {},
   "outputs": [],
   "source": [
    "def continued_fraction_iterative(x, iter):\n",
    "    # Store the terms in reverse order\n",
    "    terms = []\n",
    "    \n",
    "    # Calculate all floor values first\n",
    "    for _ in range(iter):\n",
    "        a = int(x)\n",
    "        terms.append(a)\n",
    "        x -=a\n",
    "        if np.isclose(x,0):\n",
    "            break\n",
    "        \n",
    "\n",
    "            \n",
    "        x = 1/x\n",
    "    \n",
    "    \n",
    "    return terms\n",
    "\n",
    "def get_den(cont_frac):\n",
    "    q = [1,0]\n",
    "    for i in range(len(cont_frac)):\n",
    "        q.append(cont_frac[i]*q[-1]+q[-2])\n",
    "    return q"
   ]
  },
  {
   "cell_type": "markdown",
   "metadata": {},
   "source": [
    "Returns the highest r, which is smaller than N, if all satisfiy this return the last element (which should be the best approximation to phi)"
   ]
  },
  {
   "cell_type": "code",
   "execution_count": 81,
   "metadata": {},
   "outputs": [],
   "source": [
    "def get_order(phi,N):\n",
    "    estimated_r = get_den(continued_fraction_iterative(phi,5000))\n",
    "    for i in range(len(estimated_r)):\n",
    "        if estimated_r[i] < N:\n",
    "            continue\n",
    "        if i==0:\n",
    "            return estimated_r[i]\n",
    "        return estimated_r[i-1]\n",
    "    return estimated_r[-1]\n",
    "    "
   ]
  },
  {
   "cell_type": "code",
   "execution_count": 82,
   "metadata": {},
   "outputs": [],
   "source": [
    "orders = []\n",
    "for i in result:\n",
    "    order = get_order(int(i,2)/2**t,7)\n",
    "    orders.append(order)\n",
    "    # brea\n",
    "orders = np.array(orders)"
   ]
  },
  {
   "cell_type": "code",
   "execution_count": 83,
   "metadata": {},
   "outputs": [
    {
     "data": {
      "text/plain": [
       "array([4, 3, 1, 1, 1, 1, 5, 5, 4, 5, 5, 6, 5, 6, 5, 3, 3, 3, 1, 1, 4, 3,\n",
       "       5, 5, 4, 3, 6, 4, 3, 3, 3, 3, 3, 6, 3, 6, 3, 6, 3, 6, 3, 6, 3, 3,\n",
       "       3, 6, 3, 6, 5, 3, 3, 3, 6, 6, 3, 3, 5, 3, 2, 6, 3, 6, 4, 3, 1, 5,\n",
       "       3, 6, 6, 1, 1, 1, 1, 6, 3, 3, 3, 3, 6, 3, 6, 3, 3, 6, 3, 3, 5, 6,\n",
       "       3, 6, 6, 5, 5, 5, 3, 5, 3, 5, 4, 5, 6, 3, 1, 6, 6, 6, 3, 5, 4, 2,\n",
       "       6, 6, 6, 3, 4, 3, 3, 1, 3, 6, 1, 3, 1, 3, 5, 3, 6, 5, 6, 4, 5, 6,\n",
       "       3, 6, 5, 4, 6, 5, 6, 3, 1, 5, 3, 5, 3, 3, 1, 3, 3, 1, 3, 5, 5, 5])"
      ]
     },
     "execution_count": 83,
     "metadata": {},
     "output_type": "execute_result"
    }
   ],
   "source": [
    "orders"
   ]
  },
  {
   "cell_type": "markdown",
   "metadata": {},
   "source": [
    "We can find the most likly by binning the result of the PE."
   ]
  },
  {
   "cell_type": "code",
   "execution_count": 84,
   "metadata": {},
   "outputs": [],
   "source": [
    "hits = np.zeros(7)\n",
    "for key,value in zip(orders,result.values()):\n",
    "    hits[key] += value"
   ]
  },
  {
   "cell_type": "code",
   "execution_count": 85,
   "metadata": {},
   "outputs": [
    {
     "data": {
      "text/plain": [
       "<BarContainer object of 7 artists>"
      ]
     },
     "execution_count": 85,
     "metadata": {},
     "output_type": "execute_result"
    },
    {
     "data": {
      "image/png": "[encoded data removed]",
      "text/plain": [
       "<Figure size 640x480 with 1 Axes>"
      ]
     },
     "metadata": {},
     "output_type": "display_data"
    }
   ],
   "source": [
    "plt.bar(range(0,7),hits)"
   ]
  },
  {
   "cell_type": "markdown",
   "metadata": {},
   "source": [
    "The most likly results are 3 & 6. One can check that 6 is the right answer."
   ]
  },
  {
   "cell_type": "code",
   "execution_count": 86,
   "metadata": {},
   "outputs": [
    {
     "data": {
      "text/plain": [
       "1"
      ]
     },
     "execution_count": 86,
     "metadata": {},
     "output_type": "execute_result"
    }
   ],
   "source": [
    "3**6 %7"
   ]
  },
  {
   "cell_type": "markdown",
   "metadata": {},
   "source": [
    "The succsess rate reads"
   ]
  },
  {
   "cell_type": "code",
   "execution_count": 87,
   "metadata": {},
   "outputs": [
    {
     "data": {
      "text/plain": [
       "np.float64(32.85)"
      ]
     },
     "execution_count": 87,
     "metadata": {},
     "output_type": "execute_result"
    }
   ],
   "source": [
    "hits[-1]/(sum(hits))*100"
   ]
  },
  {
   "cell_type": "markdown",
   "metadata": {},
   "source": [
    "On avreage a acceptence rate of about 32% was achived."
   ]
  }
 ],
 "metadata": {
  "kernelspec": {
   "display_name": "qiskit1",
   "language": "python",
   "name": "python3"
  },
  "language_info": {
   "codemirror_mode": {
    "name": "ipython",
    "version": 3
   },
   "file_extension": ".py",
   "mimetype": "text/x-python",
   "name": "python",
   "nbconvert_exporter": "python",
   "pygments_lexer": "ipython3",
   "version": "3.11.10"
  }
 },
 "nbformat": 4,
 "nbformat_minor": 2
}
