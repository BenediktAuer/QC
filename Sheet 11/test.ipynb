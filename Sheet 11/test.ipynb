{
 "cells": [
  {
   "cell_type": "code",
   "execution_count": 1,
   "metadata": {},
   "outputs": [],
   "source": [
    "import numpy as np\n",
    "from fractions import Fraction\n",
    "import qiskit.visualization\n",
    "from qiskit import QuantumCircuit, QuantumRegister, ClassicalRegister\n",
    "from qiskit.circuit.library import QFT\n",
    "from qiskit_aer import AerSimulator"
   ]
  },
  {
   "cell_type": "markdown",
   "metadata": {},
   "source": [
    "### cAddModN"
   ]
  },
  {
   "cell_type": "code",
   "execution_count": 2,
   "metadata": {},
   "outputs": [],
   "source": [
    "def sim(circuit, simulator, shots,x_val,y_val,N,n_qubits):\n",
    "    display(qiskit.visualization.plot_distribution(simGetCounts(circuit, simulator, shots,), title=rf\" {x_val}+{y_val} mod {N} = ${(x_val+y_val)%N }_{{10}}$ = ${((x_val+y_val)%N):0{n_qubits}b}_{{2}}$ \"))\n",
    "def simMul(circuit, simulator, shots,x_val,y_val,N,n_qubits):\n",
    "    display(qiskit.visualization.plot_distribution(simGetCounts(circuit, simulator, shots,), title=rf\" {x_val}*{y_val} mod {N} = ${(x_val*y_val)%N }_{{10}}$ = ${((x_val*y_val)%N):0{n_qubits}b}_{{2}}$ \"))\n",
    "\n",
    "\n",
    "def simGetCounts(circuit, simulator, shots):\n",
    "    return simulator.run(qiskit.transpile(circuit, simulator),shots=shots).result().get_counts(0)"
   ]
  },
  {
   "cell_type": "code",
   "execution_count": 3,
   "metadata": {},
   "outputs": [],
   "source": [
    "def qft_adder(qc,qr,y_val,isless=False):\n",
    "    # Apply QFT \n",
    "    qft = QFT(len(qr), do_swaps=False)\n",
    "    qc.append(qft,qr )\n",
    "    \n",
    "    # Apply controlled phase rotations\n",
    "    for i in range(len(qr)):\n",
    "            theta = 2 * np.pi*y_val / (2 ** (i + 1))\n",
    "            qc.p(theta, qr[i])\n",
    "    # Apply inverse QFT \n",
    "    iqft = QFT(len(qr), do_swaps=False).inverse()\n",
    "    qc.append(iqft, qr)\n",
    "    if isless:\n",
    "        qc.barrier()\n",
    "    return qc"
   ]
  },
  {
   "cell_type": "code",
   "execution_count": 4,
   "metadata": {},
   "outputs": [],
   "source": [
    "def isless(qc,qr, a,c,y_val):\n",
    "    qft_adder(qc,[*qr,*a],-y_val)\n",
    "    qc.cx(a,c)\n",
    "    qft_adder(qc,[*qr,*a],y_val)\n",
    "    return qc"
   ]
  },
  {
   "cell_type": "code",
   "execution_count": 5,
   "metadata": {},
   "outputs": [],
   "source": [
    "def Cqft_adder(qc,qr,c,y_val):\n",
    "    \"\"\"\n",
    "        assuming the first Quantum register is the x+1-register, and the second  is c1\n",
    "    \"\"\"\n",
    "    # Apply QFT \n",
    "    qft = QFT(len(qr), do_swaps=False)\n",
    "    qc.append(qft,qr )\n",
    "    \n",
    "    # Apply controlled phase rotations\n",
    "    for i in range(len(qr)):\n",
    "            theta = 2 * np.pi*y_val / (2 ** (i + 1))\n",
    "            qc.cp(theta,c,qr[i])\n",
    "    # Apply inverse QFT \n",
    "    iqft = QFT(len(qr), do_swaps=False).inverse()\n",
    "    qc.append(iqft, qr)\n",
    "    \n",
    "    return qc.to_instruction()"
   ]
  },
  {
   "cell_type": "code",
   "execution_count": 6,
   "metadata": {},
   "outputs": [],
   "source": [
    "def Cisless(qc,qr, a,c,control,y_val):\n",
    "    Cqft_adder(qc,[*qr,*a],control,-y_val)\n",
    "    qc.cx(a,c)\n",
    "    Cqft_adder(qc,[*qr,*a],control,y_val)\n",
    "    return qc"
   ]
  },
  {
   "cell_type": "code",
   "execution_count": 7,
   "metadata": {},
   "outputs": [],
   "source": [
    "def addmodN(qc,qr,a,c,y_val,N):\n",
    "    isless(qc,qr,a,c,N-y_val)\n",
    "    qft_adder(qc,qr,y_val)\n",
    "    Cqft_adder(qc,qr,c,-N,)\n",
    "    # qft_adder(qc,[*qr,*a],-y_val)\n",
    "    # qc.x(a)\n",
    "    # qc.cx(a,c)\n",
    "    # qc.x(a)\n",
    "    # qft_adder(qc,[*qr,*a],y_val)\n",
    "    return qc"
   ]
  },
  {
   "cell_type": "code",
   "execution_count": 8,
   "metadata": {},
   "outputs": [],
   "source": [
    "def CaddmodN(qc,qr,a,c,control,y_val,N):\n",
    "    y_val = y_val%N\n",
    "    c1,c2 = c[0],c[1]\n",
    "    Cisless(qc,qr,a,c1,control,N) #x<N\n",
    "    Cisless(qc,qr,a,c2,control,N-y_val)\n",
    "    qc.barrier() # for adding mod N\n",
    "    #case c1=true and c2=False\n",
    "    qc.x(c2)\n",
    "    qc.ccx(c1,c2,a)\n",
    "    qc.x(c2)\n",
    "    qc.barrier()\n",
    "    Cqft_adder(qc,qr,a,y_val-N)\n",
    "    qc.x(c2)\n",
    "    qc.ccx(c1,c2,a)\n",
    "    qc.x(c2)\n",
    "    qc.barrier()\n",
    "    # case c1=True and C2=True\n",
    "    qc.ccx(c1,c2,a)\n",
    "    Cqft_adder(qc,qr,a,y_val)\n",
    "    qc.ccx(c1,c2,a)\n",
    "    qc.barrier()\n",
    "    Cisless(qc,qr,a,c2,control, y_val)\n",
    "    qc.cx(c1,c2)\n",
    "    Cisless(qc,qr,a,c1,control,N)\n",
    "    return qc"
   ]
  },
  {
   "cell_type": "code",
   "execution_count": 9,
   "metadata": {},
   "outputs": [],
   "source": [
    "x_val =9\n",
    "y_val = 1\n",
    "N_val=11\n",
    "# ensures that x register is large enough to fit arbitrary mod N operation\n",
    "n_qubits = max(int(np.ceil(np.log2(x_val)+1)),int(np.ceil(np.log2(N_val)+1)) ) "
   ]
  },
  {
   "cell_type": "code",
   "execution_count": 10,
   "metadata": {},
   "outputs": [
    {
     "data": {
      "text/plain": [
       "<qiskit.circuit.quantumcircuit.QuantumCircuit at 0x7faf85d89ad0>"
      ]
     },
     "execution_count": 10,
     "metadata": {},
     "output_type": "execute_result"
    }
   ],
   "source": [
    "qr = QuantumRegister(n_qubits,'x')\n",
    "a = QuantumRegister(1,'a')\n",
    "c = QuantumRegister(2,'c')\n",
    "control = QuantumRegister(1,'control')\n",
    "# cl = ClassicalRegister(n_qubits)\n",
    "circ = QuantumCircuit(qr,a,c,control)\n",
    "for i in range(n_qubits):\n",
    "        if (x_val & (1 << i)):\n",
    "            circ.x(qr[i])\n",
    "circ.x(control)\n",
    "circ.barrier()\n",
    "CaddmodN(circ,qr,a,c,control,y_val,N_val)"
   ]
  },
  {
   "cell_type": "code",
   "execution_count": 11,
   "metadata": {},
   "outputs": [],
   "source": [
    "\n",
    "# circ.measure(circ.qregs[0][:],circ.cregs[0][:n_qubits])\n",
    "circ.measure_all()"
   ]
  },
  {
   "cell_type": "code",
   "execution_count": 12,
   "metadata": {},
   "outputs": [],
   "source": [
    "# circ.draw('mpl')"
   ]
  },
  {
   "cell_type": "code",
   "execution_count": 13,
   "metadata": {},
   "outputs": [
    {
     "data": {
      "image/png": "[encoded data removed]",
      "text/plain": [
       "<Figure size 700x500 with 1 Axes>"
      ]
     },
     "metadata": {},
     "output_type": "display_data"
    }
   ],
   "source": [
    "sim(circ,AerSimulator(),1000,x_val,y_val,N_val,5)"
   ]
  },
  {
   "cell_type": "markdown",
   "metadata": {},
   "source": [
    "### cMulModN"
   ]
  },
  {
   "cell_type": "code",
   "execution_count": 14,
   "metadata": {},
   "outputs": [],
   "source": [
    "def summands(y,N,n_qubits):\n",
    "    r = np.zeros(n_qubits)\n",
    "    for i in range(0,n_qubits):\n",
    "        s = 0\n",
    "        for j in range(0,n_qubits):\n",
    "            s = s+int(np.binary_repr(y,n_qubits)[::-1][j])*2**(i+j)\n",
    "        r[i] = s % N\n",
    "    return r"
   ]
  },
  {
   "cell_type": "code",
   "execution_count": 15,
   "metadata": {},
   "outputs": [],
   "source": [
    "def eEa(a,b):\n",
    "    if (a==0): \n",
    "        return (b,0,1)\n",
    "    gcd, x,y, = eEa(b%a,a)\n",
    "    return (gcd,y-(b//a)*x,x)\n",
    "\n",
    "def moduloinverse(a,n):\n",
    "    gcd, x,_ = eEa(a,n)\n",
    "    if gcd !=1:\n",
    "        raise VauleError(\"Mod inverse does not exists\")\n",
    "    return x%n"
   ]
  },
  {
   "cell_type": "code",
   "execution_count": 40,
   "metadata": {},
   "outputs": [],
   "source": [
    "def c_mult_mod_N(qc,qr,qr1,a,control,y_val,N):\n",
    "    n = len(qr1)\n",
    "    s = summands(y_val,N,n)\n",
    "\n",
    "    for i in range(n):\n",
    "        qc.ccx(control,qr[i],a[3])\n",
    "        qc.barrier()\n",
    "        CaddmodN(qc,qr1,[a[2]],a[0:2],a[3],s[i],N)\n",
    "        qc.ccx(control,qr[i],a[3])\n",
    "    for i in range(n):\n",
    "        qc.cswap(control,qr[i],qr1[i])\n",
    "    y_inv  = N-moduloinverse(y_val,N)\n",
    "    s_inv = summands(y_inv,N,n)\n",
    "    for i in range(n):\n",
    "        qc.ccx(control,qr[i],a[3])\n",
    "        CaddmodN(qc,qr1,[a[2]],a[0:2],a[3],s_inv[i],N)\n",
    "        qc.ccx(control,qr[i],a[3])\n",
    "    return qr"
   ]
  },
  {
   "cell_type": "code",
   "execution_count": 41,
   "metadata": {},
   "outputs": [],
   "source": [
    "x_val =9\n",
    "y_val = 2\n",
    "N_val=11\n",
    "# ensures that x register is large enough to fit arbitrary mod N operation\n",
    "n_qubits = max(int(np.ceil(np.log2(x_val)+1)),int(np.ceil(np.log2(N_val)+1)) ) "
   ]
  },
  {
   "cell_type": "code",
   "execution_count": 47,
   "metadata": {},
   "outputs": [],
   "source": [
    "qr = QuantumRegister(n_qubits,'x')\n",
    "qr1 = QuantumRegister(n_qubits,'z')\n",
    "a0 = QuantumRegister(4,'a')\n",
    "# c = QuantumRegister(2,'c')\n",
    "control = QuantumRegister(1,'control')\n",
    "# cl = ClassicalRegister(n_qubits)\n",
    "circ1 = QuantumCircuit(qr,qr1,a,control)\n",
    "for i in range(n_qubits):\n",
    "        if (x_val & (1 << i)):\n",
    "            circ1.x(qr[i])\n",
    "circ1.x(control)\n",
    "circ1.barrier()\n",
    "c_mult_mod_N(circ1,qr,qr1,a,control,y_val,N_val)\n",
    "# circ1.measure(qr,cl)\n",
    "circ1.measure_all()"
   ]
  },
  {
   "cell_type": "code",
   "execution_count": 48,
   "metadata": {},
   "outputs": [
    {
     "data": {
      "image/png": "[encoded data removed]",
      "text/plain": [
       "<Figure size 700x500 with 1 Axes>"
      ]
     },
     "metadata": {},
     "output_type": "display_data"
    }
   ],
   "source": [
    "simMul(circ1,AerSimulator(),1000,x_val,y_val,N_val,n_qubits)"
   ]
  },
  {
   "cell_type": "code",
   "execution_count": null,
   "metadata": {},
   "outputs": [],
   "source": []
  }
 ],
 "metadata": {
  "kernelspec": {
   "display_name": "qiskit1",
   "language": "python",
   "name": "python3"
  },
  "language_info": {
   "codemirror_mode": {
    "name": "ipython",
    "version": 3
   },
   "file_extension": ".py",
   "mimetype": "text/x-python",
   "name": "python",
   "nbconvert_exporter": "python",
   "pygments_lexer": "ipython3",
   "version": "3.11.10"
  }
 },
 "nbformat": 4,
 "nbformat_minor": 2
}
