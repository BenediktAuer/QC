{
 "cells": [
  {
   "cell_type": "code",
   "execution_count": 3,
   "metadata": {},
   "outputs": [],
   "source": [
    "import numpy as np\n",
    "from fractions import Fraction\n",
    "import qiskit.visualization\n",
    "from qiskit import QuantumCircuit, QuantumRegister, ClassicalRegister\n",
    "from qiskit.circuit.library import QFT\n",
    "from qiskit_aer import AerSimulator"
   ]
  },
  {
   "cell_type": "markdown",
   "metadata": {},
   "source": [
    "### cAddModN"
   ]
  },
  {
   "cell_type": "code",
   "execution_count": 4,
   "metadata": {},
   "outputs": [],
   "source": [
    "def sim(circuit, simulator, shots,x_val,y_val,N,n_qubits):\n",
    "    display(qiskit.visualization.plot_distribution(simGetCounts(circuit, simulator, shots,), title=rf\" {x_val}+{y_val} mod {N} = ${(x_val+y_val)%N }_{{10}}$ = ${((x_val+y_val)%N):0{n_qubits}b}_{{2}}$ \"))\n",
    "def simMul(circuit, simulator, shots,x_val,y_val,N,n_qubits):\n",
    "    display(qiskit.visualization.plot_distribution(simGetCounts(circuit, simulator, shots,), title=rf\" {x_val}*{y_val} mod {N} = ${(x_val*y_val)%N }_{{10}}$ = ${((x_val*y_val)%N):0{n_qubits}b}_{{2}}$ \"))\n",
    "\n",
    "\n",
    "def simGetCounts(circuit, simulator, shots):\n",
    "    return simulator.run(qiskit.transpile(circuit, simulator),shots=shots).result().get_counts(0)"
   ]
  },
  {
   "cell_type": "code",
   "execution_count": 5,
   "metadata": {},
   "outputs": [],
   "source": [
    "def qft_adder(qc,qr,y_val,isless=False):\n",
    "    # Apply QFT \n",
    "    qft = QFT(len(qr), do_swaps=False)\n",
    "    qc.append(qft,qr )\n",
    "    \n",
    "    # Apply controlled phase rotations\n",
    "    for i in range(len(qr)):\n",
    "            theta = 2 * np.pi*y_val / (2 ** (i + 1))\n",
    "            qc.p(theta, qr[i])\n",
    "    # Apply inverse QFT \n",
    "    iqft = QFT(len(qr), do_swaps=False).inverse()\n",
    "    qc.append(iqft, qr)\n",
    "    if isless:\n",
    "        qc.barrier()\n",
    "    return qc"
   ]
  },
  {
   "cell_type": "code",
   "execution_count": 6,
   "metadata": {},
   "outputs": [],
   "source": [
    "def isless(qc,qr, a,c,y_val):\n",
    "    qft_adder(qc,[*qr,*a],-y_val)\n",
    "    qc.cx(a,c)\n",
    "    qft_adder(qc,[*qr,*a],y_val)\n",
    "    return qc"
   ]
  },
  {
   "cell_type": "code",
   "execution_count": 7,
   "metadata": {},
   "outputs": [],
   "source": [
    "def Cqft_adder(qc,qr,c,y_val):\n",
    "    \"\"\"\n",
    "        assuming the first Quantum register is the x+1-register, and the second  is c1\n",
    "    \"\"\"\n",
    "    # Apply QFT \n",
    "    qft = QFT(len(qr), do_swaps=False)\n",
    "    qc.append(qft,qr )\n",
    "    \n",
    "    # Apply controlled phase rotations\n",
    "    for i in range(len(qr)):\n",
    "            theta = 2 * np.pi*y_val / (2 ** (i + 1))\n",
    "            qc.cp(theta,c,qr[i])\n",
    "    # Apply inverse QFT \n",
    "    iqft = QFT(len(qr), do_swaps=False).inverse()\n",
    "    qc.append(iqft, qr)\n",
    "    \n",
    "    return qc.to_instruction()"
   ]
  },
  {
   "cell_type": "code",
   "execution_count": 8,
   "metadata": {},
   "outputs": [],
   "source": [
    "def Cisless(qc,qr, a,c,control,y_val):\n",
    "    Cqft_adder(qc,[*qr,*a],control,-y_val)\n",
    "    qc.cx(a,c)\n",
    "    Cqft_adder(qc,[*qr,*a],control,y_val)\n",
    "    return qc"
   ]
  },
  {
   "cell_type": "code",
   "execution_count": 9,
   "metadata": {},
   "outputs": [],
   "source": [
    "def addmodN(qc,qr,a,c,y_val,N):\n",
    "    isless(qc,qr,a,c,N-y_val)\n",
    "    qft_adder(qc,qr,y_val)\n",
    "    Cqft_adder(qc,qr,c,-N,)\n",
    "    # qft_adder(qc,[*qr,*a],-y_val)\n",
    "    # qc.x(a)\n",
    "    # qc.cx(a,c)\n",
    "    # qc.x(a)\n",
    "    # qft_adder(qc,[*qr,*a],y_val)\n",
    "    return qc"
   ]
  },
  {
   "cell_type": "code",
   "execution_count": null,
   "metadata": {},
   "outputs": [],
   "source": [
    "def CaddmodN(qc,qr,a,c,control,y_val,N):\n",
    "    y_val = y_val%N\n",
    "    c1,c2 = c[0],c[1]\n",
    "    Cisless(qc,qr,a,c1,control,N) #x<N\n",
    "    Cisless(qc,qr,a,c2,control,N-y_val)\n",
    "    qc.barrier() # for adding mod N\n",
    "    #case c1=true and c2=False\n",
    "    qc.x(c2)\n",
    "    qc.ccx(c1,c2,a)\n",
    "    qc.x(c2)\n",
    "    qc.barrier()\n",
    "    Cqft_adder(qc,qr,a,y_val-N)\n",
    "    qc.x(c2)\n",
    "    qc.ccx(c1,c2,a)\n",
    "    qc.x(c2)\n",
    "    qc.barrier()\n",
    "    # case c1=True and C2=True\n",
    "    qc.ccx(c1,c2,a)\n",
    "    Cqft_adder(qc,qr,a,y_val)\n",
    "    qc.ccx(c1,c2,a)\n",
    "    qc.barrier()\n",
    "    Cisless(qc,qr,a,c2,control, y_val)\n",
    "    qc.cx(c1,c2)\n",
    "    Cisless(qc,qr,a,c1,control,N)\n",
    "    return qc"
   ]
  },
  {
   "cell_type": "code",
   "execution_count": 56,
   "metadata": {},
   "outputs": [],
   "source": [
    "x_val =9\n",
    "y_val = 1\n",
    "N_val=11\n",
    "# ensures that x register is large enough to fit arbitrary mod N operation\n",
    "n_qubits = max(int(np.ceil(np.log2(x_val)+1)),int(np.ceil(np.log2(N_val)+1)) ) "
   ]
  },
  {
   "cell_type": "code",
   "execution_count": 12,
   "metadata": {},
   "outputs": [
    {
     "data": {
      "text/plain": [
       "<qiskit.circuit.quantumcircuit.QuantumCircuit at 0x12b85a8b0>"
      ]
     },
     "execution_count": 12,
     "metadata": {},
     "output_type": "execute_result"
    }
   ],
   "source": [
    "qr = QuantumRegister(n_qubits,'x')\n",
    "a = QuantumRegister(1,'a')\n",
    "c = QuantumRegister(2,'c')\n",
    "control = QuantumRegister(1,'control')\n",
    "# cl = ClassicalRegister(n_qubits)\n",
    "circ = QuantumCircuit(qr,a,c,control)\n",
    "for i in range(n_qubits):\n",
    "        if (x_val & (1 << i)):\n",
    "            circ.x(qr[i])\n",
    "circ.x(control)\n",
    "circ.barrier()\n",
    "CaddmodN(circ,qr,a,c,control,y_val,N_val)"
   ]
  },
  {
   "cell_type": "code",
   "execution_count": 13,
   "metadata": {},
   "outputs": [],
   "source": [
    "\n",
    "# circ.measure(circ.qregs[0][:],circ.cregs[0][:n_qubits])\n",
    "circ.measure_all()"
   ]
  },
  {
   "cell_type": "code",
   "execution_count": 14,
   "metadata": {},
   "outputs": [],
   "source": [
    "# circ.draw('mpl')"
   ]
  },
  {
   "cell_type": "code",
   "execution_count": 15,
   "metadata": {},
   "outputs": [
    {
     "data": {
      "image/png": "[encoded data removed]",
      "text/plain": [
       "<Figure size 700x500 with 1 Axes>"
      ]
     },
     "metadata": {},
     "output_type": "display_data"
    }
   ],
   "source": [
    "sim(circ,AerSimulator(),1000,x_val,y_val,N_val,5)"
   ]
  },
  {
   "cell_type": "markdown",
   "metadata": {},
   "source": [
    "### cMulModN"
   ]
  },
  {
   "cell_type": "code",
   "execution_count": 16,
   "metadata": {},
   "outputs": [],
   "source": [
    "def summands(y,N,n_qubits):\n",
    "    r = np.zeros(n_qubits)\n",
    "    for i in range(0,n_qubits):\n",
    "        s = 0\n",
    "        for j in range(0,n_qubits):\n",
    "            s = s+int(np.binary_repr(y,n_qubits)[::-1][j])*2**(i+j)\n",
    "        r[i] = s % N\n",
    "    return r"
   ]
  },
  {
   "cell_type": "code",
   "execution_count": 17,
   "metadata": {},
   "outputs": [],
   "source": [
    "def eEa(a,b):\n",
    "    if (a==0): \n",
    "        return (b,0,1)\n",
    "    gcd, x,y, = eEa(b%a,a)\n",
    "    return (gcd,y-(b//a)*x,x)\n",
    "\n",
    "def moduloinverse(a,n):\n",
    "    gcd, x,_ = eEa(a,n)\n",
    "    if gcd !=1:\n",
    "        raise VauleError(\"Mod inverse does not exists\")\n",
    "    return x%n"
   ]
  },
  {
   "cell_type": "code",
   "execution_count": 51,
   "metadata": {},
   "outputs": [],
   "source": [
    "def c_mult_mod_N(qc,qr,qr1,a,control,y_val,N):\n",
    "    n = len(qr1)\n",
    "    s = summands(y_val,N,n)\n",
    "\n",
    "    for i in range(n):\n",
    "        qc.ccx(control,qr[i],a[3])\n",
    "        CaddmodN(qc,[qr1],[a[2]],a[0:2],a[3],s[i],N)\n",
    "        qc.ccx(control,qr[i],a[3])\n",
    "    # for i in range(n):\n",
    "    #     qc.cswap(control,qr[i],qr1[i])\n",
    "    # y_inv  = N-moduloinverse(y_val,N)\n",
    "    # s_inv = summands(y_inv,N,n)\n",
    "    # for i in range(n):\n",
    "    #     qc.ccx(control,qr[i],a[3])\n",
    "    #     CaddmodN(qc,[qr1],[a[2]],a[0:2],a[3],s_inv[i],N)\n",
    "    #     qc.ccx(control,qr[i],a[3])\n",
    "    return qr"
   ]
  },
  {
   "cell_type": "code",
   "execution_count": 57,
   "metadata": {},
   "outputs": [],
   "source": [
    "x_val =9\n",
    "y_val = 2\n",
    "N_val=11\n",
    "# ensures that x register is large enough to fit arbitrary mod N operation\n",
    "n_qubits = max(int(np.ceil(np.log2(x_val)+1)),int(np.ceil(np.log2(N_val)+1)) ) "
   ]
  },
  {
   "cell_type": "code",
   "execution_count": 58,
   "metadata": {},
   "outputs": [],
   "source": [
    "qr = QuantumRegister(n_qubits,'x')\n",
    "qr1 = QuantumRegister(n_qubits,'z')\n",
    "a = QuantumRegister(4,'a')\n",
    "# c = QuantumRegister(2,'c')\n",
    "control = QuantumRegister(1,'control')\n",
    "# cl = ClassicalRegister(n_qubits)\n",
    "circ1 = QuantumCircuit(qr,qr1,a,control)\n",
    "for i in range(n_qubits):\n",
    "        if (x_val & (1 << i)):\n",
    "            circ1.x(qr[i])\n",
    "circ1.x(control)\n",
    "circ1.barrier()\n",
    "c_mult_mod_N(circ1,qr,qr1,a,control,y_val,N_val)\n",
    "circ1.measure_all()"
   ]
  },
  {
   "cell_type": "code",
   "execution_count": 59,
   "metadata": {},
   "outputs": [
    {
     "ename": "DAGCircuitError",
     "evalue": "'bit mapping invalid: expected 6, got 2'",
     "output_type": "error",
     "traceback": [
      "\u001b[0;31m---------------------------------------------------------------------------\u001b[0m",
      "\u001b[0;31mDAGCircuitError\u001b[0m                           Traceback (most recent call last)",
      "Cell \u001b[0;32mIn[59], line 1\u001b[0m\n\u001b[0;32m----> 1\u001b[0m circ \u001b[38;5;241m=\u001b[39m \u001b[43mqiskit\u001b[49m\u001b[38;5;241;43m.\u001b[39;49m\u001b[43mtranspile\u001b[49m\u001b[43m(\u001b[49m\u001b[43mcirc1\u001b[49m\u001b[43m,\u001b[49m\u001b[43mAerSimulator\u001b[49m\u001b[43m(\u001b[49m\u001b[43m)\u001b[49m\u001b[43m)\u001b[49m\n",
      "File \u001b[0;32m~/Documents/Uni/QC/.venv/lib/python3.9/site-packages/qiskit/compiler/transpiler.py:391\u001b[0m, in \u001b[0;36mtranspile\u001b[0;34m(circuits, backend, basis_gates, inst_map, coupling_map, backend_properties, initial_layout, layout_method, routing_method, translation_method, scheduling_method, instruction_durations, dt, approximation_degree, timing_constraints, seed_transpiler, optimization_level, callback, output_name, unitary_synthesis_method, unitary_synthesis_plugin_config, target, hls_config, init_method, optimization_method, ignore_backend_supplied_default_methods, num_processes)\u001b[0m\n\u001b[1;32m    363\u001b[0m \u001b[38;5;66;03m# Edge cases require using the old model (loose constraints) instead of building a target,\u001b[39;00m\n\u001b[1;32m    364\u001b[0m \u001b[38;5;66;03m# but we don't populate the passmanager config with loose constraints unless it's one of\u001b[39;00m\n\u001b[1;32m    365\u001b[0m \u001b[38;5;66;03m# the known edge cases to control the execution path.\u001b[39;00m\n\u001b[1;32m    366\u001b[0m pm \u001b[38;5;241m=\u001b[39m generate_preset_pass_manager(\n\u001b[1;32m    367\u001b[0m     optimization_level,\n\u001b[1;32m    368\u001b[0m     target\u001b[38;5;241m=\u001b[39mtarget,\n\u001b[0;32m   (...)\u001b[0m\n\u001b[1;32m    388\u001b[0m     dt\u001b[38;5;241m=\u001b[39mdt,\n\u001b[1;32m    389\u001b[0m )\n\u001b[0;32m--> 391\u001b[0m out_circuits \u001b[38;5;241m=\u001b[39m \u001b[43mpm\u001b[49m\u001b[38;5;241;43m.\u001b[39;49m\u001b[43mrun\u001b[49m\u001b[43m(\u001b[49m\u001b[43mcircuits\u001b[49m\u001b[43m,\u001b[49m\u001b[43m \u001b[49m\u001b[43mcallback\u001b[49m\u001b[38;5;241;43m=\u001b[39;49m\u001b[43mcallback\u001b[49m\u001b[43m,\u001b[49m\u001b[43m \u001b[49m\u001b[43mnum_processes\u001b[49m\u001b[38;5;241;43m=\u001b[39;49m\u001b[43mnum_processes\u001b[49m\u001b[43m)\u001b[49m\n\u001b[1;32m    393\u001b[0m \u001b[38;5;28;01mfor\u001b[39;00m name, circ \u001b[38;5;129;01min\u001b[39;00m \u001b[38;5;28mzip\u001b[39m(output_name, out_circuits):\n\u001b[1;32m    394\u001b[0m     circ\u001b[38;5;241m.\u001b[39mname \u001b[38;5;241m=\u001b[39m name\n",
      "File \u001b[0;32m~/Documents/Uni/QC/.venv/lib/python3.9/site-packages/qiskit/transpiler/passmanager.py:441\u001b[0m, in \u001b[0;36mStagedPassManager.run\u001b[0;34m(self, circuits, output_name, callback, num_processes)\u001b[0m\n\u001b[1;32m    433\u001b[0m \u001b[38;5;28;01mdef\u001b[39;00m \u001b[38;5;21mrun\u001b[39m(\n\u001b[1;32m    434\u001b[0m     \u001b[38;5;28mself\u001b[39m,\n\u001b[1;32m    435\u001b[0m     circuits: _CircuitsT,\n\u001b[0;32m   (...)\u001b[0m\n\u001b[1;32m    438\u001b[0m     num_processes: \u001b[38;5;28mint\u001b[39m \u001b[38;5;241m=\u001b[39m \u001b[38;5;28;01mNone\u001b[39;00m,\n\u001b[1;32m    439\u001b[0m ) \u001b[38;5;241m-\u001b[39m\u001b[38;5;241m>\u001b[39m _CircuitsT:\n\u001b[1;32m    440\u001b[0m     \u001b[38;5;28mself\u001b[39m\u001b[38;5;241m.\u001b[39m_update_passmanager()\n\u001b[0;32m--> 441\u001b[0m     \u001b[38;5;28;01mreturn\u001b[39;00m \u001b[38;5;28;43msuper\u001b[39;49m\u001b[43m(\u001b[49m\u001b[43m)\u001b[49m\u001b[38;5;241;43m.\u001b[39;49m\u001b[43mrun\u001b[49m\u001b[43m(\u001b[49m\u001b[43mcircuits\u001b[49m\u001b[43m,\u001b[49m\u001b[43m \u001b[49m\u001b[43moutput_name\u001b[49m\u001b[43m,\u001b[49m\u001b[43m \u001b[49m\u001b[43mcallback\u001b[49m\u001b[43m,\u001b[49m\u001b[43m \u001b[49m\u001b[43mnum_processes\u001b[49m\u001b[38;5;241;43m=\u001b[39;49m\u001b[43mnum_processes\u001b[49m\u001b[43m)\u001b[49m\n",
      "File \u001b[0;32m~/Documents/Uni/QC/.venv/lib/python3.9/site-packages/qiskit/transpiler/passmanager.py:464\u001b[0m, in \u001b[0;36m_replace_error.<locals>.wrapper\u001b[0;34m(*meth_args, **meth_kwargs)\u001b[0m\n\u001b[1;32m    461\u001b[0m \u001b[38;5;129m@wraps\u001b[39m(meth)\n\u001b[1;32m    462\u001b[0m \u001b[38;5;28;01mdef\u001b[39;00m \u001b[38;5;21mwrapper\u001b[39m(\u001b[38;5;241m*\u001b[39mmeth_args, \u001b[38;5;241m*\u001b[39m\u001b[38;5;241m*\u001b[39mmeth_kwargs):\n\u001b[1;32m    463\u001b[0m     \u001b[38;5;28;01mtry\u001b[39;00m:\n\u001b[0;32m--> 464\u001b[0m         \u001b[38;5;28;01mreturn\u001b[39;00m \u001b[43mmeth\u001b[49m\u001b[43m(\u001b[49m\u001b[38;5;241;43m*\u001b[39;49m\u001b[43mmeth_args\u001b[49m\u001b[43m,\u001b[49m\u001b[43m \u001b[49m\u001b[38;5;241;43m*\u001b[39;49m\u001b[38;5;241;43m*\u001b[39;49m\u001b[43mmeth_kwargs\u001b[49m\u001b[43m)\u001b[49m\n\u001b[1;32m    465\u001b[0m     \u001b[38;5;28;01mexcept\u001b[39;00m PassManagerError \u001b[38;5;28;01mas\u001b[39;00m ex:\n\u001b[1;32m    466\u001b[0m         \u001b[38;5;28;01mraise\u001b[39;00m TranspilerError(ex\u001b[38;5;241m.\u001b[39mmessage) \u001b[38;5;28;01mfrom\u001b[39;00m \u001b[38;5;21;01mex\u001b[39;00m\n",
      "File \u001b[0;32m~/Documents/Uni/QC/.venv/lib/python3.9/site-packages/qiskit/transpiler/passmanager.py:226\u001b[0m, in \u001b[0;36mPassManager.run\u001b[0;34m(self, circuits, output_name, callback, num_processes)\u001b[0m\n\u001b[1;32m    223\u001b[0m \u001b[38;5;28;01mif\u001b[39;00m callback \u001b[38;5;129;01mis\u001b[39;00m \u001b[38;5;129;01mnot\u001b[39;00m \u001b[38;5;28;01mNone\u001b[39;00m:\n\u001b[1;32m    224\u001b[0m     callback \u001b[38;5;241m=\u001b[39m _legacy_style_callback(callback)\n\u001b[0;32m--> 226\u001b[0m \u001b[38;5;28;01mreturn\u001b[39;00m \u001b[38;5;28;43msuper\u001b[39;49m\u001b[43m(\u001b[49m\u001b[43m)\u001b[49m\u001b[38;5;241;43m.\u001b[39;49m\u001b[43mrun\u001b[49m\u001b[43m(\u001b[49m\n\u001b[1;32m    227\u001b[0m \u001b[43m    \u001b[49m\u001b[43min_programs\u001b[49m\u001b[38;5;241;43m=\u001b[39;49m\u001b[43mcircuits\u001b[49m\u001b[43m,\u001b[49m\n\u001b[1;32m    228\u001b[0m \u001b[43m    \u001b[49m\u001b[43mcallback\u001b[49m\u001b[38;5;241;43m=\u001b[39;49m\u001b[43mcallback\u001b[49m\u001b[43m,\u001b[49m\n\u001b[1;32m    229\u001b[0m \u001b[43m    \u001b[49m\u001b[43moutput_name\u001b[49m\u001b[38;5;241;43m=\u001b[39;49m\u001b[43moutput_name\u001b[49m\u001b[43m,\u001b[49m\n\u001b[1;32m    230\u001b[0m \u001b[43m    \u001b[49m\u001b[43mnum_processes\u001b[49m\u001b[38;5;241;43m=\u001b[39;49m\u001b[43mnum_processes\u001b[49m\u001b[43m,\u001b[49m\n\u001b[1;32m    231\u001b[0m \u001b[43m\u001b[49m\u001b[43m)\u001b[49m\n",
      "File \u001b[0;32m~/Documents/Uni/QC/.venv/lib/python3.9/site-packages/qiskit/passmanager/passmanager.py:231\u001b[0m, in \u001b[0;36mBasePassManager.run\u001b[0;34m(self, in_programs, callback, num_processes, **kwargs)\u001b[0m\n\u001b[1;32m    228\u001b[0m \u001b[38;5;66;03m# If we're not going to run in parallel, we want to avoid spending time `dill` serializing\u001b[39;00m\n\u001b[1;32m    229\u001b[0m \u001b[38;5;66;03m# ourselves, since that can be quite expensive.\u001b[39;00m\n\u001b[1;32m    230\u001b[0m \u001b[38;5;28;01mif\u001b[39;00m \u001b[38;5;28mlen\u001b[39m(in_programs) \u001b[38;5;241m==\u001b[39m \u001b[38;5;241m1\u001b[39m \u001b[38;5;129;01mor\u001b[39;00m \u001b[38;5;129;01mnot\u001b[39;00m should_run_in_parallel(num_processes):\n\u001b[0;32m--> 231\u001b[0m     out \u001b[38;5;241m=\u001b[39m [\n\u001b[1;32m    232\u001b[0m         _run_workflow(program\u001b[38;5;241m=\u001b[39mprogram, pass_manager\u001b[38;5;241m=\u001b[39m\u001b[38;5;28mself\u001b[39m, callback\u001b[38;5;241m=\u001b[39mcallback, \u001b[38;5;241m*\u001b[39m\u001b[38;5;241m*\u001b[39mkwargs)\n\u001b[1;32m    233\u001b[0m         \u001b[38;5;28;01mfor\u001b[39;00m program \u001b[38;5;129;01min\u001b[39;00m in_programs\n\u001b[1;32m    234\u001b[0m     ]\n\u001b[1;32m    235\u001b[0m     \u001b[38;5;28;01mif\u001b[39;00m \u001b[38;5;28mlen\u001b[39m(in_programs) \u001b[38;5;241m==\u001b[39m \u001b[38;5;241m1\u001b[39m \u001b[38;5;129;01mand\u001b[39;00m \u001b[38;5;129;01mnot\u001b[39;00m is_list:\n\u001b[1;32m    236\u001b[0m         \u001b[38;5;28;01mreturn\u001b[39;00m out[\u001b[38;5;241m0\u001b[39m]\n",
      "File \u001b[0;32m~/Documents/Uni/QC/.venv/lib/python3.9/site-packages/qiskit/passmanager/passmanager.py:232\u001b[0m, in \u001b[0;36m<listcomp>\u001b[0;34m(.0)\u001b[0m\n\u001b[1;32m    228\u001b[0m \u001b[38;5;66;03m# If we're not going to run in parallel, we want to avoid spending time `dill` serializing\u001b[39;00m\n\u001b[1;32m    229\u001b[0m \u001b[38;5;66;03m# ourselves, since that can be quite expensive.\u001b[39;00m\n\u001b[1;32m    230\u001b[0m \u001b[38;5;28;01mif\u001b[39;00m \u001b[38;5;28mlen\u001b[39m(in_programs) \u001b[38;5;241m==\u001b[39m \u001b[38;5;241m1\u001b[39m \u001b[38;5;129;01mor\u001b[39;00m \u001b[38;5;129;01mnot\u001b[39;00m should_run_in_parallel(num_processes):\n\u001b[1;32m    231\u001b[0m     out \u001b[38;5;241m=\u001b[39m [\n\u001b[0;32m--> 232\u001b[0m         \u001b[43m_run_workflow\u001b[49m\u001b[43m(\u001b[49m\u001b[43mprogram\u001b[49m\u001b[38;5;241;43m=\u001b[39;49m\u001b[43mprogram\u001b[49m\u001b[43m,\u001b[49m\u001b[43m \u001b[49m\u001b[43mpass_manager\u001b[49m\u001b[38;5;241;43m=\u001b[39;49m\u001b[38;5;28;43mself\u001b[39;49m\u001b[43m,\u001b[49m\u001b[43m \u001b[49m\u001b[43mcallback\u001b[49m\u001b[38;5;241;43m=\u001b[39;49m\u001b[43mcallback\u001b[49m\u001b[43m,\u001b[49m\u001b[43m \u001b[49m\u001b[38;5;241;43m*\u001b[39;49m\u001b[38;5;241;43m*\u001b[39;49m\u001b[43mkwargs\u001b[49m\u001b[43m)\u001b[49m\n\u001b[1;32m    233\u001b[0m         \u001b[38;5;28;01mfor\u001b[39;00m program \u001b[38;5;129;01min\u001b[39;00m in_programs\n\u001b[1;32m    234\u001b[0m     ]\n\u001b[1;32m    235\u001b[0m     \u001b[38;5;28;01mif\u001b[39;00m \u001b[38;5;28mlen\u001b[39m(in_programs) \u001b[38;5;241m==\u001b[39m \u001b[38;5;241m1\u001b[39m \u001b[38;5;129;01mand\u001b[39;00m \u001b[38;5;129;01mnot\u001b[39;00m is_list:\n\u001b[1;32m    236\u001b[0m         \u001b[38;5;28;01mreturn\u001b[39;00m out[\u001b[38;5;241m0\u001b[39m]\n",
      "File \u001b[0;32m~/Documents/Uni/QC/.venv/lib/python3.9/site-packages/qiskit/passmanager/passmanager.py:292\u001b[0m, in \u001b[0;36m_run_workflow\u001b[0;34m(program, pass_manager, **kwargs)\u001b[0m\n\u001b[1;32m    286\u001b[0m initial_status \u001b[38;5;241m=\u001b[39m WorkflowStatus()\n\u001b[1;32m    288\u001b[0m passmanager_ir \u001b[38;5;241m=\u001b[39m pass_manager\u001b[38;5;241m.\u001b[39m_passmanager_frontend(\n\u001b[1;32m    289\u001b[0m     input_program\u001b[38;5;241m=\u001b[39mprogram,\n\u001b[1;32m    290\u001b[0m     \u001b[38;5;241m*\u001b[39m\u001b[38;5;241m*\u001b[39mkwargs,\n\u001b[1;32m    291\u001b[0m )\n\u001b[0;32m--> 292\u001b[0m passmanager_ir, final_state \u001b[38;5;241m=\u001b[39m \u001b[43mflow_controller\u001b[49m\u001b[38;5;241;43m.\u001b[39;49m\u001b[43mexecute\u001b[49m\u001b[43m(\u001b[49m\n\u001b[1;32m    293\u001b[0m \u001b[43m    \u001b[49m\u001b[43mpassmanager_ir\u001b[49m\u001b[38;5;241;43m=\u001b[39;49m\u001b[43mpassmanager_ir\u001b[49m\u001b[43m,\u001b[49m\n\u001b[1;32m    294\u001b[0m \u001b[43m    \u001b[49m\u001b[43mstate\u001b[49m\u001b[38;5;241;43m=\u001b[39;49m\u001b[43mPassManagerState\u001b[49m\u001b[43m(\u001b[49m\n\u001b[1;32m    295\u001b[0m \u001b[43m        \u001b[49m\u001b[43mworkflow_status\u001b[49m\u001b[38;5;241;43m=\u001b[39;49m\u001b[43minitial_status\u001b[49m\u001b[43m,\u001b[49m\n\u001b[1;32m    296\u001b[0m \u001b[43m        \u001b[49m\u001b[43mproperty_set\u001b[49m\u001b[38;5;241;43m=\u001b[39;49m\u001b[43mPropertySet\u001b[49m\u001b[43m(\u001b[49m\u001b[43m)\u001b[49m\u001b[43m,\u001b[49m\n\u001b[1;32m    297\u001b[0m \u001b[43m    \u001b[49m\u001b[43m)\u001b[49m\u001b[43m,\u001b[49m\n\u001b[1;32m    298\u001b[0m \u001b[43m    \u001b[49m\u001b[43mcallback\u001b[49m\u001b[38;5;241;43m=\u001b[39;49m\u001b[43mkwargs\u001b[49m\u001b[38;5;241;43m.\u001b[39;49m\u001b[43mget\u001b[49m\u001b[43m(\u001b[49m\u001b[38;5;124;43m\"\u001b[39;49m\u001b[38;5;124;43mcallback\u001b[39;49m\u001b[38;5;124;43m\"\u001b[39;49m\u001b[43m,\u001b[49m\u001b[43m \u001b[49m\u001b[38;5;28;43;01mNone\u001b[39;49;00m\u001b[43m)\u001b[49m\u001b[43m,\u001b[49m\n\u001b[1;32m    299\u001b[0m \u001b[43m\u001b[49m\u001b[43m)\u001b[49m\n\u001b[1;32m    300\u001b[0m \u001b[38;5;66;03m# The `property_set` has historically been returned as a mutable attribute on `PassManager`\u001b[39;00m\n\u001b[1;32m    301\u001b[0m \u001b[38;5;66;03m# This makes us non-reentrant (though `PassManager` would be dependent on its internal tasks to\u001b[39;00m\n\u001b[1;32m    302\u001b[0m \u001b[38;5;66;03m# be re-entrant if that was required), but is consistent with previous interfaces.  We're still\u001b[39;00m\n\u001b[1;32m    303\u001b[0m \u001b[38;5;66;03m# safe to be called in a serial loop, again assuming internal tasks are re-runnable.  The\u001b[39;00m\n\u001b[1;32m    304\u001b[0m \u001b[38;5;66;03m# conversion to the backend language is also allowed to use the property set, so it must be set\u001b[39;00m\n\u001b[1;32m    305\u001b[0m \u001b[38;5;66;03m# before calling it.\u001b[39;00m\n\u001b[1;32m    306\u001b[0m pass_manager\u001b[38;5;241m.\u001b[39mproperty_set \u001b[38;5;241m=\u001b[39m final_state\u001b[38;5;241m.\u001b[39mproperty_set\n",
      "File \u001b[0;32m~/Documents/Uni/QC/.venv/lib/python3.9/site-packages/qiskit/passmanager/base_tasks.py:218\u001b[0m, in \u001b[0;36mBaseController.execute\u001b[0;34m(self, passmanager_ir, state, callback)\u001b[0m\n\u001b[1;32m    216\u001b[0m     \u001b[38;5;28;01mreturn\u001b[39;00m passmanager_ir, state\n\u001b[1;32m    217\u001b[0m \u001b[38;5;28;01mwhile\u001b[39;00m \u001b[38;5;28;01mTrue\u001b[39;00m:\n\u001b[0;32m--> 218\u001b[0m     passmanager_ir, state \u001b[38;5;241m=\u001b[39m \u001b[43mnext_task\u001b[49m\u001b[38;5;241;43m.\u001b[39;49m\u001b[43mexecute\u001b[49m\u001b[43m(\u001b[49m\n\u001b[1;32m    219\u001b[0m \u001b[43m        \u001b[49m\u001b[43mpassmanager_ir\u001b[49m\u001b[38;5;241;43m=\u001b[39;49m\u001b[43mpassmanager_ir\u001b[49m\u001b[43m,\u001b[49m\n\u001b[1;32m    220\u001b[0m \u001b[43m        \u001b[49m\u001b[43mstate\u001b[49m\u001b[38;5;241;43m=\u001b[39;49m\u001b[43mstate\u001b[49m\u001b[43m,\u001b[49m\n\u001b[1;32m    221\u001b[0m \u001b[43m        \u001b[49m\u001b[43mcallback\u001b[49m\u001b[38;5;241;43m=\u001b[39;49m\u001b[43mcallback\u001b[49m\u001b[43m,\u001b[49m\n\u001b[1;32m    222\u001b[0m \u001b[43m    \u001b[49m\u001b[43m)\u001b[49m\n\u001b[1;32m    223\u001b[0m     \u001b[38;5;28;01mtry\u001b[39;00m:\n\u001b[1;32m    224\u001b[0m         \u001b[38;5;66;03m# Sending the object through the generator implies the custom controllers\u001b[39;00m\n\u001b[1;32m    225\u001b[0m         \u001b[38;5;66;03m# can always rely on the latest data to choose the next task to run.\u001b[39;00m\n\u001b[1;32m    226\u001b[0m         next_task \u001b[38;5;241m=\u001b[39m task_generator\u001b[38;5;241m.\u001b[39msend(state)\n",
      "File \u001b[0;32m~/Documents/Uni/QC/.venv/lib/python3.9/site-packages/qiskit/transpiler/basepasses.py:195\u001b[0m, in \u001b[0;36mTransformationPass.execute\u001b[0;34m(self, passmanager_ir, state, callback)\u001b[0m\n\u001b[1;32m    189\u001b[0m \u001b[38;5;28;01mdef\u001b[39;00m \u001b[38;5;21mexecute\u001b[39m(\n\u001b[1;32m    190\u001b[0m     \u001b[38;5;28mself\u001b[39m,\n\u001b[1;32m    191\u001b[0m     passmanager_ir: PassManagerIR,\n\u001b[1;32m    192\u001b[0m     state: PassManagerState,\n\u001b[1;32m    193\u001b[0m     callback: Callable \u001b[38;5;241m=\u001b[39m \u001b[38;5;28;01mNone\u001b[39;00m,\n\u001b[1;32m    194\u001b[0m ) \u001b[38;5;241m-\u001b[39m\u001b[38;5;241m>\u001b[39m \u001b[38;5;28mtuple\u001b[39m[PassManagerIR, PassManagerState]:\n\u001b[0;32m--> 195\u001b[0m     new_dag, state \u001b[38;5;241m=\u001b[39m \u001b[38;5;28;43msuper\u001b[39;49m\u001b[43m(\u001b[49m\u001b[43m)\u001b[49m\u001b[38;5;241;43m.\u001b[39;49m\u001b[43mexecute\u001b[49m\u001b[43m(\u001b[49m\n\u001b[1;32m    196\u001b[0m \u001b[43m        \u001b[49m\u001b[43mpassmanager_ir\u001b[49m\u001b[38;5;241;43m=\u001b[39;49m\u001b[43mpassmanager_ir\u001b[49m\u001b[43m,\u001b[49m\n\u001b[1;32m    197\u001b[0m \u001b[43m        \u001b[49m\u001b[43mstate\u001b[49m\u001b[38;5;241;43m=\u001b[39;49m\u001b[43mstate\u001b[49m\u001b[43m,\u001b[49m\n\u001b[1;32m    198\u001b[0m \u001b[43m        \u001b[49m\u001b[43mcallback\u001b[49m\u001b[38;5;241;43m=\u001b[39;49m\u001b[43mcallback\u001b[49m\u001b[43m,\u001b[49m\n\u001b[1;32m    199\u001b[0m \u001b[43m    \u001b[49m\u001b[43m)\u001b[49m\n\u001b[1;32m    201\u001b[0m     \u001b[38;5;28;01mif\u001b[39;00m state\u001b[38;5;241m.\u001b[39mworkflow_status\u001b[38;5;241m.\u001b[39mprevious_run \u001b[38;5;241m==\u001b[39m RunState\u001b[38;5;241m.\u001b[39mSUCCESS:\n\u001b[1;32m    202\u001b[0m         \u001b[38;5;28;01mif\u001b[39;00m \u001b[38;5;28misinstance\u001b[39m(new_dag, DAGCircuit):\n\u001b[1;32m    203\u001b[0m             \u001b[38;5;66;03m# Copy calibration data from the original program\u001b[39;00m\n",
      "File \u001b[0;32m~/Documents/Uni/QC/.venv/lib/python3.9/site-packages/qiskit/passmanager/base_tasks.py:98\u001b[0m, in \u001b[0;36mGenericPass.execute\u001b[0;34m(self, passmanager_ir, state, callback)\u001b[0m\n\u001b[1;32m     96\u001b[0m \u001b[38;5;28;01mtry\u001b[39;00m:\n\u001b[1;32m     97\u001b[0m     \u001b[38;5;28;01mif\u001b[39;00m \u001b[38;5;28mself\u001b[39m \u001b[38;5;129;01mnot\u001b[39;00m \u001b[38;5;129;01min\u001b[39;00m state\u001b[38;5;241m.\u001b[39mworkflow_status\u001b[38;5;241m.\u001b[39mcompleted_passes:\n\u001b[0;32m---> 98\u001b[0m         ret \u001b[38;5;241m=\u001b[39m \u001b[38;5;28;43mself\u001b[39;49m\u001b[38;5;241;43m.\u001b[39;49m\u001b[43mrun\u001b[49m\u001b[43m(\u001b[49m\u001b[43mpassmanager_ir\u001b[49m\u001b[43m)\u001b[49m\n\u001b[1;32m     99\u001b[0m         run_state \u001b[38;5;241m=\u001b[39m RunState\u001b[38;5;241m.\u001b[39mSUCCESS\n\u001b[1;32m    100\u001b[0m     \u001b[38;5;28;01melse\u001b[39;00m:\n",
      "File \u001b[0;32m~/Documents/Uni/QC/.venv/lib/python3.9/site-packages/qiskit/transpiler/passes/synthesis/high_level_synthesis.py:453\u001b[0m, in \u001b[0;36mHighLevelSynthesis.run\u001b[0;34m(self, dag)\u001b[0m\n\u001b[1;32m    449\u001b[0m     dag\u001b[38;5;241m.\u001b[39msubstitute_node_with_dag(\n\u001b[1;32m    450\u001b[0m         node, circuit_to_dag(decomposition, copy_operations\u001b[38;5;241m=\u001b[39m\u001b[38;5;28;01mFalse\u001b[39;00m)\n\u001b[1;32m    451\u001b[0m     )\n\u001b[1;32m    452\u001b[0m \u001b[38;5;28;01melif\u001b[39;00m \u001b[38;5;28misinstance\u001b[39m(decomposition, DAGCircuit):\n\u001b[0;32m--> 453\u001b[0m     \u001b[43mdag\u001b[49m\u001b[38;5;241;43m.\u001b[39;49m\u001b[43msubstitute_node_with_dag\u001b[49m\u001b[43m(\u001b[49m\u001b[43mnode\u001b[49m\u001b[43m,\u001b[49m\u001b[43m \u001b[49m\u001b[43mdecomposition\u001b[49m\u001b[43m)\u001b[49m\n\u001b[1;32m    454\u001b[0m \u001b[38;5;28;01melif\u001b[39;00m \u001b[38;5;28misinstance\u001b[39m(decomposition, Operation):\n\u001b[1;32m    455\u001b[0m     dag\u001b[38;5;241m.\u001b[39msubstitute_node(node, decomposition)\n",
      "File \u001b[0;32m~/Documents/Uni/QC/.venv/lib/python3.9/site-packages/qiskit/dagcircuit/dagcircuit.py:1440\u001b[0m, in \u001b[0;36mDAGCircuit.substitute_node_with_dag\u001b[0;34m(self, node, input_dag, wires, propagate_condition)\u001b[0m\n\u001b[1;32m   1436\u001b[0m     node_wire_order \u001b[38;5;241m+\u001b[39m\u001b[38;5;241m=\u001b[39m [\n\u001b[1;32m   1437\u001b[0m         wire \u001b[38;5;28;01mfor\u001b[39;00m wire \u001b[38;5;129;01min\u001b[39;00m _additional_wires(node\u001b[38;5;241m.\u001b[39mop) \u001b[38;5;28;01mif\u001b[39;00m wire \u001b[38;5;129;01mnot\u001b[39;00m \u001b[38;5;129;01min\u001b[39;00m node_cargs\n\u001b[1;32m   1438\u001b[0m     ]\n\u001b[1;32m   1439\u001b[0m \u001b[38;5;28;01mif\u001b[39;00m \u001b[38;5;28mlen\u001b[39m(wires) \u001b[38;5;241m!=\u001b[39m \u001b[38;5;28mlen\u001b[39m(node_wire_order):\n\u001b[0;32m-> 1440\u001b[0m     \u001b[38;5;28;01mraise\u001b[39;00m DAGCircuitError(\n\u001b[1;32m   1441\u001b[0m         \u001b[38;5;124mf\u001b[39m\u001b[38;5;124m\"\u001b[39m\u001b[38;5;124mbit mapping invalid: expected \u001b[39m\u001b[38;5;132;01m{\u001b[39;00m\u001b[38;5;28mlen\u001b[39m(node_wire_order)\u001b[38;5;132;01m}\u001b[39;00m\u001b[38;5;124m, got \u001b[39m\u001b[38;5;132;01m{\u001b[39;00m\u001b[38;5;28mlen\u001b[39m(wires)\u001b[38;5;132;01m}\u001b[39;00m\u001b[38;5;124m\"\u001b[39m\n\u001b[1;32m   1442\u001b[0m     )\n\u001b[1;32m   1443\u001b[0m wire_map \u001b[38;5;241m=\u001b[39m \u001b[38;5;28mdict\u001b[39m(\u001b[38;5;28mzip\u001b[39m(wires, node_wire_order))\n\u001b[1;32m   1444\u001b[0m \u001b[38;5;28;01mif\u001b[39;00m \u001b[38;5;28mlen\u001b[39m(wire_map) \u001b[38;5;241m!=\u001b[39m \u001b[38;5;28mlen\u001b[39m(node_wire_order):\n",
      "\u001b[0;31mDAGCircuitError\u001b[0m: 'bit mapping invalid: expected 6, got 2'"
     ]
    }
   ],
   "source": [
    "circ = qiskit.transpile(circ1,AerSimulator())"
   ]
  },
  {
   "cell_type": "code",
   "execution_count": null,
   "metadata": {},
   "outputs": [],
   "source": []
  }
 ],
 "metadata": {
  "kernelspec": {
   "display_name": ".venv",
   "language": "python",
   "name": "python3"
  },
  "language_info": {
   "codemirror_mode": {
    "name": "ipython",
    "version": 3
   },
   "file_extension": ".py",
   "mimetype": "text/x-python",
   "name": "python",
   "nbconvert_exporter": "python",
   "pygments_lexer": "ipython3",
   "version": "3.9.6"
  }
 },
 "nbformat": 4,
 "nbformat_minor": 2
}
