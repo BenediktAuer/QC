{
 "cells": [
  {
   "cell_type": "code",
   "execution_count": 1,
   "metadata": {},
   "outputs": [],
   "source": [
    "import numpy as np\n",
    "from fractions import Fraction\n",
    "import qiskit.visualization\n",
    "from qiskit import QuantumCircuit, QuantumRegister, ClassicalRegister\n",
    "from qiskit.circuit.library import QFT\n",
    "from qiskit_aer import AerSimulator"
   ]
  },
  {
   "cell_type": "code",
   "execution_count": 2,
   "metadata": {},
   "outputs": [],
   "source": [
    "def sim(circuit, simulator, shots,x_val,y_val,N,n_qubits):\n",
    "    display(qiskit.visualization.plot_distribution(simGetCounts(circuit, simulator, shots,), title=rf\" {x_val}+{y_val} mod {N} = ${(x_val+y_val)%N }_{{10}}$ = ${((x_val+y_val)%N):0{n_qubits}b}_{{2}}$ \"))\n",
    "def simMul(circuit, simulator, shots,x_val,y_val,N,n_qubits):\n",
    "    display(qiskit.visualization.plot_distribution(simGetCounts(circuit, simulator, shots,), title=rf\" {x_val}*{y_val} mod {N} = ${(x_val*y_val)%N }_{{10}}$ = ${((x_val*y_val)%N):0{n_qubits}b}_{{2}}$ \"))\n",
    "def simMulExp(circuit, simulator, shots,x_val,y_val,a,N,n_qubits):\n",
    "    display(qiskit.visualization.plot_distribution(simGetCounts(circuit, simulator, shots,), title=rf\" {x_val}*{y_val}^{a} mod {N} = ${(x_val*y_val**a)%N }_{{10}}$ = ${((x_val*y_val**a)%N):0{n_qubits}b}_{{2}}$ \"))\n",
    "\n",
    "\n",
    "def simGetCounts(circuit, simulator, shots):\n",
    "    return simulator.run(qiskit.transpile(circuit, simulator),shots=shots).result().get_counts(0)"
   ]
  },
  {
   "cell_type": "code",
   "execution_count": 3,
   "metadata": {},
   "outputs": [],
   "source": [
    "def adder(n_qubits,y):\n",
    "    qr = QuantumRegister(n_qubits,name=\"q\")\n",
    "    qc = QuantumCircuit(qr,name=\"Add\")\n",
    "    qft = QFT(n_qubits, do_swaps=False)\n",
    "    qc.append(qft,qr )\n",
    "    \n",
    "    # Apply controlled phase rotations\n",
    "    for i in range(n_qubits):\n",
    "            theta = 2 * np.pi*y / (2 ** (i + 1))\n",
    "            qc.p(theta, qr[i])\n",
    "    # Apply inverse QFT \n",
    "    iqft = QFT(n_qubits, do_swaps=False).inverse()\n",
    "    qc.append(iqft, qr)\n",
    "\n",
    "    return qc.to_instruction()"
   ]
  },
  {
   "cell_type": "code",
   "execution_count": 4,
   "metadata": {},
   "outputs": [],
   "source": [
    "def isLess(n_qubits,y):\n",
    "    \"\"\"\n",
    "    the last 2 qubits are a and c respectivly , the other are the data register , the final result is saved in c.\n",
    "    \"\"\"\n",
    "    qubits = list(range(n_qubits))\n",
    "    x = qubits[:-2]\n",
    "    a = qubits[-2]\n",
    "    c = qubits[-1]\n",
    "    qc = QuantumCircuit(n_qubits,name=\"isLess\")\n",
    "    add_plus_y = adder(n_qubits-1,y)\n",
    "    add_minus_y = adder(n_qubits-1,-y)\n",
    "    qc.append(add_minus_y, x+ [a])\n",
    "    qc.cx(a,c)\n",
    "    qc.append(add_plus_y, x+ [a])\n",
    "    return qc.to_instruction()"
   ]
  },
  {
   "cell_type": "code",
   "execution_count": 5,
   "metadata": {},
   "outputs": [],
   "source": [
    "def Cadder(n_qubits,y):\n",
    "    \"\"\"\n",
    "    the first qubit is the control qubit, the rest are data qubits\n",
    "    \"\"\"\n",
    "    qr = QuantumRegister(n_qubits-1,name=\"q\")\n",
    "    control = QuantumRegister(1,name=\"control\")\n",
    "    qc = QuantumCircuit(control,qr,name=\"CAdd\")\n",
    "    qft = QFT(n_qubits-1, do_swaps=False)\n",
    "    qc.append(qft,qr )\n",
    "    \n",
    "    # Apply controlled phase rotations\n",
    "    for i in range(n_qubits-1):\n",
    "            theta = 2 * np.pi*y / (2 ** (i + 1))\n",
    "            qc.cp(theta,control, qr[i])\n",
    "    # Apply inverse QFT \n",
    "    iqft = QFT(n_qubits-1, do_swaps=False).inverse()\n",
    "    qc.append(iqft, qr)\n",
    "\n",
    "    return qc.to_instruction()"
   ]
  },
  {
   "cell_type": "code",
   "execution_count": 6,
   "metadata": {},
   "outputs": [],
   "source": [
    "def CisLess(n_qubits,y):\n",
    "    \"\"\"\n",
    "    needs n+3 qubits for n bit number\n",
    "    the first qubit is the control, qubit,the last 2 qubits are a and c respectivly , the other are the data register , the final result is saved in c.\n",
    "    \"\"\"\n",
    "\n",
    "    qubits = list(range(n_qubits))\n",
    "    control = qubits[0]\n",
    "    x = qubits[1:-2]\n",
    "    a = qubits[-2]\n",
    "    c = qubits[-1]\n",
    "    qc = QuantumCircuit(n_qubits,name=\"isLess\")\n",
    "    add_plus_y = Cadder(n_qubits-1,y)\n",
    "    add_minus_y = Cadder(n_qubits-1,-y)\n",
    "    qc.append(add_minus_y,[control]+ x+ [a])\n",
    "    qc.cx(a,c)\n",
    "    qc.append(add_plus_y, [control]+x+ [a])\n",
    "    return qc.to_instruction()"
   ]
  },
  {
   "cell_type": "code",
   "execution_count": 7,
   "metadata": {},
   "outputs": [],
   "source": [
    "def CaddModN(n_qubits, y,N):\n",
    "    \n",
    "    \"\"\"\n",
    "    needs n+4 qubits for an n bit long number\n",
    "    the first qubit is the control, qubit,the last 3 qubits are a , c1 and c2 respectivly , the other are the data register , the final result is saved in c.\n",
    "    \"\"\"\n",
    "    qubits = list(range(n_qubits))\n",
    "    control = qubits[0]\n",
    "    x = qubits[1:-3]\n",
    "    a = qubits[-3]\n",
    "    c1 = qubits[-2]\n",
    "    c2 = qubits[-1]\n",
    "    y = y%N\n",
    "    \n",
    "\n",
    "    qc = QuantumCircuit(n_qubits,name=\"CaddModN\")\n",
    "    isLess_N = CisLess(n_qubits-1,N)\n",
    "    isLess_N_minus_y = CisLess(n_qubits-1,N-y)\n",
    "    isLess_y = CisLess(n_qubits-1,y)\n",
    "    add_y_minus_N = Cadder(n_qubits-3,y-N) #need to be with control a\n",
    "    add_y = Cadder(n_qubits-3,y) #need to be with control a\n",
    "    qc.append(isLess_N,[control]+x+[a]+[c1])\n",
    "    qc.append(isLess_N_minus_y,[control]+x+[a]+[c2])\n",
    "\n",
    "    qc.x(c2)\n",
    "    qc.ccx(c1,c2,a)\n",
    "    qc.x(c2)\n",
    "    qc.append(add_y_minus_N,[a]+x)\n",
    "    qc.x(c2)\n",
    "    qc.ccx(c1,c2,a)\n",
    "    qc.x(c2)\n",
    "\n",
    "    qc.ccx(c1,c2,a)\n",
    "    qc.append(add_y,[a]+x)\n",
    "    qc.ccx(c1,c2,a)\n",
    "\n",
    "\n",
    "    qc.append(isLess_y,[control]+x+[a]+[c2])\n",
    "    qc.cx(c1,c2)\n",
    "    qc.append(isLess_N,[control]+x+[a]+[c1])\n",
    "    return qc.to_instruction()\n"
   ]
  },
  {
   "cell_type": "code",
   "execution_count": 8,
   "metadata": {},
   "outputs": [],
   "source": [
    "x_val =9\n",
    "y_val = 1\n",
    "N_val=11\n",
    "n_qubits = max(int(np.ceil(np.log2(x_val)+1)),int(np.ceil(np.log2(N_val)+1)) ) "
   ]
  },
  {
   "cell_type": "code",
   "execution_count": 9,
   "metadata": {},
   "outputs": [
    {
     "data": {
      "image/png": "[encoded data removed]",
      "text/plain": [
       "<Figure size 1354.93x869.556 with 1 Axes>"
      ]
     },
     "execution_count": 9,
     "metadata": {},
     "output_type": "execute_result"
    }
   ],
   "source": [
    "qr = QuantumRegister(n_qubits,'x')\n",
    "a = QuantumRegister(1,'a')\n",
    "c = QuantumRegister(2,'c')\n",
    "control = QuantumRegister(1,'control')\n",
    "circ = QuantumCircuit(control,qr,a,c)\n",
    "for i in range(n_qubits):\n",
    "        if (x_val & (1 << i)):\n",
    "            circ.x(qr[i])\n",
    "circ.x(control)\n",
    "circ.barrier()\n",
    "\n",
    "circ.append(CaddModN(n_qubits+4,y_val,N_val),circ.qubits[:])\n",
    "circ.measure_all()\n",
    "circ.draw('mpl')\n"
   ]
  },
  {
   "cell_type": "code",
   "execution_count": 10,
   "metadata": {},
   "outputs": [
    {
     "data": {
      "image/png": "[encoded data removed]",
      "text/plain": [
       "<Figure size 700x500 with 1 Axes>"
      ]
     },
     "metadata": {},
     "output_type": "display_data"
    }
   ],
   "source": [
    "sim(circ,AerSimulator(),1000,x_val,y_val,N_val,5)"
   ]
  },
  {
   "cell_type": "code",
   "execution_count": 11,
   "metadata": {},
   "outputs": [],
   "source": [
    "def summands(y,N,n_qubits):\n",
    "    r = np.zeros(n_qubits)\n",
    "    for i in range(0,n_qubits):\n",
    "        s = 0\n",
    "        for j in range(0,n_qubits):\n",
    "            s = s+int(np.binary_repr(y,n_qubits)[::-1][j])*2**(i+j)\n",
    "        r[i] = s % N\n",
    "    return r"
   ]
  },
  {
   "cell_type": "code",
   "execution_count": 12,
   "metadata": {},
   "outputs": [],
   "source": [
    "def eEa(a,b):\n",
    "    if (a==0): \n",
    "        return (b,0,1)\n",
    "    gcd, x,y, = eEa(b%a,a)\n",
    "    return (gcd,y-(b//a)*x,x)\n",
    "\n",
    "def moduloinverse(a,n):\n",
    "    gcd, x,_ = eEa(a,n)\n",
    "    if gcd !=1:\n",
    "        raise VauleError(\"Mod inverse does not exists\")\n",
    "    return x%n"
   ]
  },
  {
   "cell_type": "code",
   "execution_count": 13,
   "metadata": {},
   "outputs": [],
   "source": [
    "def CmultModN(n_qubits,y,N):\n",
    "    \"\"\"\n",
    "    needs a 1+n+n+4 qubits for n qubit number\n",
    "    with the layout control+data+2nd data,auxillary\n",
    "    \"\"\"\n",
    "    qubits = list(range(n_qubits))\n",
    "    n = (n_qubits-5)//2 \n",
    "    control = qubits[0:1]      # length 1\n",
    "    x1 = qubits[1:n+1]   # length n\n",
    "    x2 = qubits[(n+1):2*n+1] # length n  \n",
    "    a = qubits[(2*n+1):]\n",
    "    s = summands(y,N,n)\n",
    "\n",
    "    qc = QuantumCircuit(n_qubits,name=f\"Cmult {y} Mod{N}\")\n",
    "\n",
    "    for i in range(n):\n",
    "        qc.ccx(control,x1[i],a[3])\n",
    "        qc.append(CaddModN(n+4,s[i],N),[a[3]]+x2+[a[2]]+a[0:2])\n",
    "        qc.ccx(control,x1[i],a[3])\n",
    "    for i in range(n):\n",
    "        qc.cswap(control,x1[i],x2[i])\n",
    "    y_inv  = N-moduloinverse(y,N)\n",
    "    s_inv = summands(y_inv,N,n)\n",
    "    for i in range(n):\n",
    "        qc.ccx(control,x1[i],a[3])\n",
    "        qc.append(CaddModN(n+4,s_inv[i],N),[a[3]]+x2+[a[2]]+a[0:2])\n",
    "        qc.ccx(control,x1[i],a[3])\n",
    "    return qc.to_instruction()"
   ]
  },
  {
   "cell_type": "code",
   "execution_count": 14,
   "metadata": {},
   "outputs": [
    {
     "data": {
      "text/plain": [
       "5"
      ]
     },
     "execution_count": 14,
     "metadata": {},
     "output_type": "execute_result"
    }
   ],
   "source": [
    "x_val =9\n",
    "y_val = 2\n",
    "N_val=11\n",
    "# ensures that x register is large enough to fit arbitrary mod N operation\n",
    "n_qubits = max(int(np.ceil(np.log2(x_val)+1)),int(np.ceil(np.log2(N_val)+1)) ) \n",
    "n_qubits"
   ]
  },
  {
   "cell_type": "code",
   "execution_count": 15,
   "metadata": {},
   "outputs": [],
   "source": [
    "qr = QuantumRegister(n_qubits,'x')\n",
    "qr1 = QuantumRegister(n_qubits,'z')\n",
    "a = QuantumRegister(4,'a')\n",
    "# c = QuantumRegister(2,'c')\n",
    "control = QuantumRegister(1,'control')\n",
    "circ1 = QuantumCircuit(control,qr,qr1,a)\n",
    "for i in range(n_qubits):\n",
    "        if (x_val & (1 << i)):\n",
    "            circ1.x(qr[i])\n",
    "circ1.h(control[0])\n",
    "circ1.barrier()\n",
    "circ1.append(CmultModN(circ1.num_qubits,y_val,N_val),circ1.qubits)\n",
    "circ1.measure_all()"
   ]
  },
  {
   "cell_type": "code",
   "execution_count": 16,
   "metadata": {},
   "outputs": [
    {
     "data": {
      "image/png": "[encoded data removed]",
      "text/plain": [
       "<Figure size 700x500 with 1 Axes>"
      ]
     },
     "metadata": {},
     "output_type": "display_data"
    }
   ],
   "source": [
    "simMul(circ1,AerSimulator(),1000,x_val,y_val,N_val,n_qubits)"
   ]
  },
  {
   "cell_type": "code",
   "execution_count": 17,
   "metadata": {},
   "outputs": [],
   "source": [
    "def CexpModN(n_qubits,y,a1,N):\n",
    "    qubits = list(range(n_qubits))\n",
    "    n = (n_qubits-5)//2 \n",
    "    control = qubits[0:1]      # length 1\n",
    "    x1 = qubits[1:n+1]   # length n\n",
    "    x2 = qubits[(n+1):2*n+1] # length n  \n",
    "    a = qubits[(2*n+1):]\n",
    "    qc = QuantumCircuit(n_qubits,name=rf\"C ${y}^{a1}$ Mod${N}$\")\n",
    "    gate = CmultModN(1+n+n+4,y,N)\n",
    "    for _ in range(a1):\n",
    "        qc.append(gate,control+x1+x2+a)\n",
    "    return qc.to_instruction()"
   ]
  },
  {
   "cell_type": "code",
   "execution_count": 67,
   "metadata": {},
   "outputs": [
    {
     "data": {
      "text/plain": [
       "4"
      ]
     },
     "execution_count": 67,
     "metadata": {},
     "output_type": "execute_result"
    }
   ],
   "source": [
    "x_val =2\n",
    "y_val = 3\n",
    "N_val=7\n",
    "# ensures that x register is large enough to fit arbitrary mod N operation\n",
    "n_qubits = max(int(np.ceil(np.log2(x_val)+1)),int(np.ceil(np.log2(N_val)+1)) ) \n",
    "n_qubits"
   ]
  },
  {
   "cell_type": "code",
   "execution_count": 68,
   "metadata": {},
   "outputs": [],
   "source": [
    "qr = QuantumRegister(n_qubits,'x')\n",
    "qr1 = QuantumRegister(n_qubits,'z')\n",
    "a = QuantumRegister(4,'a')\n",
    "# c = QuantumRegister(2,'c')\n",
    "control = QuantumRegister(1,'control')\n",
    "circ2 = QuantumCircuit(control,qr,qr1,a)\n",
    "for i in range(n_qubits):\n",
    "        if (x_val & (1 << i)):\n",
    "            circ2.x(qr[i])\n",
    "circ2.x(control[0])\n",
    "circ2.barrier()\n",
    "circ2.append(CexpModN(circ2.num_qubits,y_val,2**3,N_val),circ2.qubits)\n",
    "circ2.measure_all()"
   ]
  },
  {
   "cell_type": "code",
   "execution_count": 69,
   "metadata": {},
   "outputs": [
    {
     "data": {
      "image/png": "[encoded data removed]",
      "text/plain": [
       "<Figure size 700x500 with 1 Axes>"
      ]
     },
     "metadata": {},
     "output_type": "display_data"
    }
   ],
   "source": [
    "simMulExp(circ2, AerSimulator(), 1024,x_val,y_val,2**3,N_val,n_qubits)"
   ]
  },
  {
   "cell_type": "code",
   "execution_count": 21,
   "metadata": {},
   "outputs": [],
   "source": [
    "# circ1.decompose().draw('mpl')"
   ]
  },
  {
   "cell_type": "code",
   "execution_count": 35,
   "metadata": {},
   "outputs": [],
   "source": [
    "def phase_estimation(n_qubits,t,n,m,N):\n",
    "    \"\"\"\n",
    "    expectsd a circuit of t+n+n+4 qubits\n",
    "\n",
    "    with registers qr, qrL,qrL2,a\n",
    "\n",
    "    qr is the uper part of the phase estimation\n",
    "    qrL is the lower part, here is the result of the multimlication saved\n",
    "    qrL2 are the helper qubits of qrL\n",
    "    a are the anchillas\n",
    "    \n",
    "    \"\"\"\n",
    "    qubits = list(range(n_qubits))\n",
    "    qr = qubits[:t]\n",
    "    qrL = qubits[t:t+n]\n",
    "    qrL2 = qubits[t+n: t+2*n]\n",
    "    a = qubits[t+2*n:]\n",
    "    qc = QuantumCircuit(n_qubits,t,name=\"Phase Estimation\")\n",
    "    qc.h(qr)\n",
    "    qc.x(qrL[0]) #hier muss eigenlich 0 hin\n",
    "    gate = CmultModN(1+n+n+4,m,N)\n",
    "    for i in range(t):\n",
    "        for _ in range(2**i):\n",
    "            qc.append(gate,[qr[i]]+qrL+qrL2+a)\n",
    "    qc.append(QFT(t, inverse=True),qr)\n",
    "    qc.measure(qr,qc.clbits)\n",
    "    return qc.to_instruction()"
   ]
  },
  {
   "cell_type": "code",
   "execution_count": 50,
   "metadata": {},
   "outputs": [],
   "source": [
    "def phase_estimation1(n_qubits,t,n,m,N):\n",
    "    \"\"\"\n",
    "    expectsd a circuit of t+n+n+4 qubits\n",
    "\n",
    "    with registers qr, qrL,qrL2,a\n",
    "\n",
    "    qr is the uper part of the phase estimation\n",
    "    qrL is the lower part, here is the result of the multimlication saved\n",
    "    qrL2 are the helper qubits of qrL\n",
    "    a are the anchillas\n",
    "    \n",
    "    \"\"\"\n",
    "    qubits = list(range(n_qubits))\n",
    "    qr = qubits[:t]\n",
    "    qrL = qubits[t:t+n]\n",
    "    qrL2 = qubits[t+n: t+2*n]\n",
    "    a = qubits[t+2*n:]\n",
    "    qc = QuantumCircuit(n_qubits,t,name=\"Phase Estimation\")\n",
    "    qc.h(qr)\n",
    "    qc.x(qrL[0]) #hier muss eigenlich 0 hin\n",
    "    for i in range(t):\n",
    "        gate = CmultModN(1+n+n+4,m**(2**i)%N,N)\n",
    "        qc.append(gate,[qr[i]]+qrL+qrL2+a)\n",
    "    qc.append(QFT(t, inverse=True),qr)\n",
    "    qc.measure(qr,qc.clbits)\n",
    "    return qc.to_instruction()"
   ]
  },
  {
   "cell_type": "code",
   "execution_count": 51,
   "metadata": {},
   "outputs": [],
   "source": [
    "n = 3\n",
    "t = 2*n +3\n",
    "# t=2"
   ]
  },
  {
   "cell_type": "code",
   "execution_count": 52,
   "metadata": {},
   "outputs": [
    {
     "data": {
      "text/plain": [
       "<qiskit.circuit.instructionset.InstructionSet at 0x7f9ed391be20>"
      ]
     },
     "execution_count": 52,
     "metadata": {},
     "output_type": "execute_result"
    }
   ],
   "source": [
    "qr = QuantumRegister(t,'t') #these are the top qubits of the phase estimation algorithem\n",
    "qrL = QuantumRegister(n,'L') #here the multiplication is done we need n for the result, n for zwischen result and 4 anchillas\n",
    "qrL2 = QuantumRegister(n,'L2')\n",
    "a = QuantumRegister(4,'a') \n",
    "cl = ClassicalRegister(t)\n",
    "# cl1 = ClassicalRegister(n)\n",
    "qc = QuantumCircuit(qr,qrL,qrL2,a,cl)\n",
    "qc.append(phase_estimation1(t+n+n+4,t,n,3,7),qc.qubits,cl)\n",
    "# qc.measure_all()"
   ]
  },
  {
   "cell_type": "code",
   "execution_count": 53,
   "metadata": {},
   "outputs": [],
   "source": [
    "# qc.decompose().draw('mpl')"
   ]
  },
  {
   "cell_type": "code",
   "execution_count": 54,
   "metadata": {},
   "outputs": [],
   "source": [
    "result = simGetCounts(qc,AerSimulator(),10000)"
   ]
  },
  {
   "cell_type": "code",
   "execution_count": 55,
   "metadata": {},
   "outputs": [
    {
     "data": {
      "text/plain": [
       "{'001100011': 1,\n",
       " '010010001': 1,\n",
       " '110010000': 1,\n",
       " '110011110': 1,\n",
       " '000111000': 1,\n",
       " '101000110': 2,\n",
       " '111000001': 1,\n",
       " '110111011': 1,\n",
       " '101101101': 1,\n",
       " '011010110': 1,\n",
       " '010110011': 2,\n",
       " '101001000': 1,\n",
       " '001001110': 3,\n",
       " '010111011': 1,\n",
       " '011000001': 1,\n",
       " '101011101': 3,\n",
       " '011011110': 1,\n",
       " '001011100': 2,\n",
       " '100001010': 1,\n",
       " '011000101': 1,\n",
       " '101001111': 6,\n",
       " '101011111': 2,\n",
       " '001011011': 2,\n",
       " '110100100': 3,\n",
       " '001000010': 1,\n",
       " '111111110': 1,\n",
       " '111011100': 1,\n",
       " '110100110': 6,\n",
       " '001100001': 2,\n",
       " '101101100': 1,\n",
       " '101101000': 1,\n",
       " '001100101': 1,\n",
       " '110110010': 4,\n",
       " '111000010': 1,\n",
       " '000111110': 1,\n",
       " '010100011': 3,\n",
       " '001011110': 2,\n",
       " '010011110': 1,\n",
       " '010101110': 16,\n",
       " '101001011': 2,\n",
       " '011100111': 1,\n",
       " '101000011': 1,\n",
       " '001000001': 1,\n",
       " '010011100': 1,\n",
       " '110101001': 57,\n",
       " '110111010': 1,\n",
       " '101100010': 1,\n",
       " '011000111': 1,\n",
       " '101100111': 1,\n",
       " '101001100': 3,\n",
       " '110101011': 1128,\n",
       " '000111100': 1,\n",
       " '101011001': 12,\n",
       " '010101000': 23,\n",
       " '110100000': 1,\n",
       " '110100001': 2,\n",
       " '010001000': 1,\n",
       " '010010000': 1,\n",
       " '110100101': 5,\n",
       " '110101101': 28,\n",
       " '010101101': 29,\n",
       " '001010101': 1153,\n",
       " '001010110': 278,\n",
       " '101100101': 1,\n",
       " '100000000': 1679,\n",
       " '010101010': 291,\n",
       " '010101001': 40,\n",
       " '000111010': 1,\n",
       " '110101111': 7,\n",
       " '110110001': 5,\n",
       " '010101100': 73,\n",
       " '110011101': 2,\n",
       " '101010110': 318,\n",
       " '010100010': 1,\n",
       " '100010101': 2,\n",
       " '101010010': 11,\n",
       " '110101010': 276,\n",
       " '010110000': 3,\n",
       " '011001111': 3,\n",
       " '100011010': 1,\n",
       " '001011000': 20,\n",
       " '001110000': 1,\n",
       " '110110011': 5,\n",
       " '110010100': 1,\n",
       " '110101110': 12,\n",
       " '000000000': 1555,\n",
       " '101010101': 1170,\n",
       " '101010111': 55,\n",
       " '110110111': 4,\n",
       " '110100111': 9,\n",
       " '010011010': 3,\n",
       " '111001101': 1,\n",
       " '010110001': 4,\n",
       " '001010100': 69,\n",
       " '001000111': 1,\n",
       " '110101100': 62,\n",
       " '010101011': 1152,\n",
       " '010100111': 9,\n",
       " '010110100': 1,\n",
       " '010011111': 3,\n",
       " '101001001': 1,\n",
       " '101011100': 1,\n",
       " '001010011': 20,\n",
       " '101001101': 5,\n",
       " '101011011': 5,\n",
       " '111001000': 1,\n",
       " '001011010': 4,\n",
       " '001000110': 1,\n",
       " '001011001': 5,\n",
       " '101000111': 2,\n",
       " '101010000': 4,\n",
       " '001001101': 1,\n",
       " '101010001': 3,\n",
       " '001010001': 4,\n",
       " '101001010': 1,\n",
       " '001001111': 7,\n",
       " '110110000': 5,\n",
       " '001101000': 1,\n",
       " '101010011': 17,\n",
       " '100111111': 2,\n",
       " '010001111': 1,\n",
       " '110111110': 1,\n",
       " '001000101': 1,\n",
       " '100110111': 1,\n",
       " '101111111': 1,\n",
       " '010100110': 5,\n",
       " '001101001': 1,\n",
       " '000111111': 1,\n",
       " '001011101': 2,\n",
       " '010110010': 2,\n",
       " '110100010': 1,\n",
       " '010100101': 3,\n",
       " '010100000': 3,\n",
       " '101011010': 3,\n",
       " '010101111': 2,\n",
       " '110101000': 16,\n",
       " '011000110': 1,\n",
       " '101011110': 3,\n",
       " '110100011': 2,\n",
       " '010010010': 1,\n",
       " '101010100': 92,\n",
       " '101100000': 1,\n",
       " '010110110': 1,\n",
       " '011111111': 1,\n",
       " '101011000': 17,\n",
       " '010110101': 1,\n",
       " '010100100': 2,\n",
       " '110111100': 1,\n",
       " '001010010': 6,\n",
       " '001010000': 5,\n",
       " '101100011': 1,\n",
       " '111000000': 1,\n",
       " '101101111': 1,\n",
       " '001010111': 51,\n",
       " '010110111': 2,\n",
       " '111010011': 1,\n",
       " '110110100': 3,\n",
       " '001001100': 1,\n",
       " '101001110': 2,\n",
       " '110110110': 1,\n",
       " '001001011': 1,\n",
       " '110010001': 1,\n",
       " '110011001': 1}"
      ]
     },
     "execution_count": 55,
     "metadata": {},
     "output_type": "execute_result"
    }
   ],
   "source": [
    "result"
   ]
  },
  {
   "cell_type": "code",
   "execution_count": 56,
   "metadata": {},
   "outputs": [],
   "source": [
    "def continued_fraction_iterative(x, iter):\n",
    "    if iter == 0 or isinstance(x, int):\n",
    "        return int(np.floor(x))\n",
    "    \n",
    "    # Store the terms in reverse order\n",
    "    terms = []\n",
    "    current_x = x\n",
    "    \n",
    "    # Calculate all floor values first\n",
    "    for _ in range(iter):\n",
    "        floor_val = int(np.floor(current_x))\n",
    "        terms.append(floor_val)\n",
    "        \n",
    "        # Break if we have a whole number\n",
    "        if np.mod(current_x, 1) == 0:\n",
    "            break\n",
    "            \n",
    "        current_x = 1/np.mod(current_x, 1)\n",
    "    \n",
    "    # Build the fraction from bottom up\n",
    "    result = terms[-1]  # Start with the last term\n",
    "    \n",
    "    # Work backwards through the terms\n",
    "    for term in reversed(terms[:-1]):\n",
    "        result = term + Fraction(1, result)\n",
    "    \n",
    "    return result"
   ]
  },
  {
   "cell_type": "code",
   "execution_count": 84,
   "metadata": {},
   "outputs": [],
   "source": [
    "def get_order(phi,x,N):\n",
    "    k=1\n",
    "    estimated_r = continued_fraction_iterative(phi,k)\n",
    "    while estimated_r.denominator<N and  k< 1000:\n",
    "        r = estimated_r.denominator\n",
    "        k+=1\n",
    "        estimated_r = continued_fraction_iterative(phi,k)\n",
    "    return r"
   ]
  },
  {
   "cell_type": "code",
   "execution_count": null,
   "metadata": {},
   "outputs": [],
   "source": [
    "orders = []\n",
    "for i in result:\n",
    "    order = get_order(int(i,2)/2**t,3,7)\n",
    "\n",
    "    orders.append(order)"
   ]
  },
  {
   "cell_type": "code",
   "execution_count": 86,
   "metadata": {},
   "outputs": [
    {
     "data": {
      "text/plain": [
       "[5,\n",
       " 4,\n",
       " 5,\n",
       " 5,\n",
       " 1,\n",
       " 3,\n",
       " 1,\n",
       " 1,\n",
       " 3,\n",
       " 5,\n",
       " 3,\n",
       " 3,\n",
       " 6,\n",
       " 3,\n",
       " 5,\n",
       " 3,\n",
       " 2,\n",
       " 6,\n",
       " 2,\n",
       " 5,\n",
       " 3,\n",
       " 3,\n",
       " 6,\n",
       " 6,\n",
       " 1,\n",
       " 1,\n",
       " 1,\n",
       " 6,\n",
       " 5,\n",
       " 3,\n",
       " 3,\n",
       " 5,\n",
       " 6,\n",
       " 1,\n",
       " 1,\n",
       " 3,\n",
       " 5,\n",
       " 3,\n",
       " 3,\n",
       " 3,\n",
       " 2,\n",
       " 3,\n",
       " 1,\n",
       " 3,\n",
       " 6,\n",
       " 1,\n",
       " 3,\n",
       " 5,\n",
       " 3,\n",
       " 3,\n",
       " 6,\n",
       " 1,\n",
       " 3,\n",
       " 3,\n",
       " 5,\n",
       " 5,\n",
       " 4,\n",
       " 4,\n",
       " 6,\n",
       " 6,\n",
       " 3,\n",
       " 6,\n",
       " 6,\n",
       " 3,\n",
       " 2,\n",
       " 3,\n",
       " 3,\n",
       " 1,\n",
       " 6,\n",
       " 6,\n",
       " 3,\n",
       " 5,\n",
       " 3,\n",
       " 3,\n",
       " 2,\n",
       " 3,\n",
       " 6,\n",
       " 3,\n",
       " 5,\n",
       " 2,\n",
       " 6,\n",
       " 5,\n",
       " 6,\n",
       " 5,\n",
       " 6,\n",
       " 1,\n",
       " 3,\n",
       " 3,\n",
       " 1,\n",
       " 6,\n",
       " 3,\n",
       " 1,\n",
       " 3,\n",
       " 6,\n",
       " 1,\n",
       " 6,\n",
       " 3,\n",
       " 3,\n",
       " 3,\n",
       " 3,\n",
       " 3,\n",
       " 3,\n",
       " 6,\n",
       " 3,\n",
       " 3,\n",
       " 1,\n",
       " 6,\n",
       " 1,\n",
       " 6,\n",
       " 3,\n",
       " 3,\n",
       " 6,\n",
       " 3,\n",
       " 6,\n",
       " 3,\n",
       " 6,\n",
       " 6,\n",
       " 5,\n",
       " 3,\n",
       " 5,\n",
       " 4,\n",
       " 1,\n",
       " 1,\n",
       " 5,\n",
       " 4,\n",
       " 3,\n",
       " 5,\n",
       " 1,\n",
       " 6,\n",
       " 3,\n",
       " 5,\n",
       " 3,\n",
       " 3,\n",
       " 3,\n",
       " 3,\n",
       " 6,\n",
       " 5,\n",
       " 3,\n",
       " 6,\n",
       " 4,\n",
       " 3,\n",
       " 3,\n",
       " 3,\n",
       " 2,\n",
       " 3,\n",
       " 3,\n",
       " 3,\n",
       " 1,\n",
       " 6,\n",
       " 6,\n",
       " 3,\n",
       " 1,\n",
       " 4,\n",
       " 6,\n",
       " 3,\n",
       " 1,\n",
       " 6,\n",
       " 6,\n",
       " 3,\n",
       " 6,\n",
       " 6,\n",
       " 5,\n",
       " 5]"
      ]
     },
     "execution_count": 86,
     "metadata": {},
     "output_type": "execute_result"
    }
   ],
   "source": [
    "orders"
   ]
  },
  {
   "cell_type": "code",
   "execution_count": 88,
   "metadata": {},
   "outputs": [
    {
     "data": {
      "text/plain": [
       "np.int64(60)"
      ]
     },
     "execution_count": 88,
     "metadata": {},
     "output_type": "execute_result"
    }
   ],
   "source": [
    "np.lcm.reduce(orders)"
   ]
  },
  {
   "cell_type": "markdown",
   "metadata": {},
   "source": [
    "One can easily check that $r=60$ fullfilth the defining equation $m^3 \\textrm{ mod } N =1$ for the order $r$ , however the order is the smallest number to fullfill this equation. Using (Fermat–)Euler theorem I found $r=6$. "
   ]
  }
 ],
 "metadata": {
  "kernelspec": {
   "display_name": "qiskit1",
   "language": "python",
   "name": "python3"
  },
  "language_info": {
   "codemirror_mode": {
    "name": "ipython",
    "version": 3
   },
   "file_extension": ".py",
   "mimetype": "text/x-python",
   "name": "python",
   "nbconvert_exporter": "python",
   "pygments_lexer": "ipython3",
   "version": "3.11.10"
  }
 },
 "nbformat": 4,
 "nbformat_minor": 2
}
