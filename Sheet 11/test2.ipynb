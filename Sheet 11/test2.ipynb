{
 "cells": [
  {
   "cell_type": "code",
   "execution_count": 1,
   "metadata": {},
   "outputs": [],
   "source": [
    "import numpy as np\n",
    "from fractions import Fraction\n",
    "import qiskit.visualization\n",
    "from qiskit import QuantumCircuit, QuantumRegister, ClassicalRegister\n",
    "from qiskit.circuit.library import QFT\n",
    "from qiskit_aer import AerSimulator"
   ]
  },
  {
   "cell_type": "code",
   "execution_count": 2,
   "metadata": {},
   "outputs": [],
   "source": [
    "def sim(circuit, simulator, shots,x_val,y_val,N,n_qubits):\n",
    "    display(qiskit.visualization.plot_distribution(simGetCounts(circuit, simulator, shots,), title=rf\" {x_val}+{y_val} mod {N} = ${(x_val+y_val)%N }_{{10}}$ = ${((x_val+y_val)%N):0{n_qubits}b}_{{2}}$ \"))\n",
    "def simMul(circuit, simulator, shots,x_val,y_val,N,n_qubits):\n",
    "    display(qiskit.visualization.plot_distribution(simGetCounts(circuit, simulator, shots,), title=rf\" {x_val}*{y_val} mod {N} = ${(x_val*y_val)%N }_{{10}}$ = ${((x_val*y_val)%N):0{n_qubits}b}_{{2}}$ \"))\n",
    "def simMulExp(circuit, simulator, shots,x_val,y_val,a,N,n_qubits):\n",
    "    display(qiskit.visualization.plot_distribution(simGetCounts(circuit, simulator, shots,), title=rf\" {x_val}*{y_val}^{a} mod {N} = ${(x_val*y_val**a)%N }_{{10}}$ = ${((x_val*y_val**a)%N):0{n_qubits}b}_{{2}}$ \"))\n",
    "\n",
    "\n",
    "def simGetCounts(circuit, simulator, shots):\n",
    "    return simulator.run(qiskit.transpile(circuit, simulator),shots=shots).result().get_counts(0)"
   ]
  },
  {
   "cell_type": "code",
   "execution_count": 3,
   "metadata": {},
   "outputs": [],
   "source": [
    "def adder(n_qubits,y):\n",
    "    qr = QuantumRegister(n_qubits,name=\"q\")\n",
    "    qc = QuantumCircuit(qr,name=\"Add\")\n",
    "    qft = QFT(n_qubits, do_swaps=False)\n",
    "    qc.append(qft,qr )\n",
    "    \n",
    "    # Apply controlled phase rotations\n",
    "    for i in range(n_qubits):\n",
    "            theta = 2 * np.pi*y / (2 ** (i + 1))\n",
    "            qc.p(theta, qr[i])\n",
    "    # Apply inverse QFT \n",
    "    iqft = QFT(n_qubits, do_swaps=False).inverse()\n",
    "    qc.append(iqft, qr)\n",
    "\n",
    "    return qc.to_instruction()"
   ]
  },
  {
   "cell_type": "code",
   "execution_count": 4,
   "metadata": {},
   "outputs": [],
   "source": [
    "def isLess(n_qubits,y):\n",
    "    \"\"\"\n",
    "    the last 2 qubits are a and c respectivly , the other are the data register , the final result is saved in c.\n",
    "    \"\"\"\n",
    "    qubits = list(range(n_qubits))\n",
    "    x = qubits[:-2]\n",
    "    a = qubits[-2]\n",
    "    c = qubits[-1]\n",
    "    qc = QuantumCircuit(n_qubits,name=\"isLess\")\n",
    "    add_plus_y = adder(n_qubits-1,y)\n",
    "    add_minus_y = adder(n_qubits-1,-y)\n",
    "    qc.append(add_minus_y, x+ [a])\n",
    "    qc.cx(a,c)\n",
    "    qc.append(add_plus_y, x+ [a])\n",
    "    return qc.to_instruction()"
   ]
  },
  {
   "cell_type": "code",
   "execution_count": 5,
   "metadata": {},
   "outputs": [],
   "source": [
    "def Cadder(n_qubits,y):\n",
    "    \"\"\"\n",
    "    the first qubit is the control qubit, the rest are data qubits\n",
    "    \"\"\"\n",
    "    qr = QuantumRegister(n_qubits-1,name=\"q\")\n",
    "    control = QuantumRegister(1,name=\"control\")\n",
    "    qc = QuantumCircuit(control,qr,name=\"CAdd\")\n",
    "    qft = QFT(n_qubits-1, do_swaps=False)\n",
    "    qc.append(qft,qr )\n",
    "    \n",
    "    # Apply controlled phase rotations\n",
    "    for i in range(n_qubits-1):\n",
    "            theta = 2 * np.pi*y / (2 ** (i + 1))\n",
    "            qc.cp(theta,control, qr[i])\n",
    "    # Apply inverse QFT \n",
    "    iqft = QFT(n_qubits-1, do_swaps=False).inverse()\n",
    "    qc.append(iqft, qr)\n",
    "\n",
    "    return qc.to_instruction()"
   ]
  },
  {
   "cell_type": "code",
   "execution_count": 6,
   "metadata": {},
   "outputs": [],
   "source": [
    "def CisLess(n_qubits,y):\n",
    "    \"\"\"\n",
    "    needs n+3 qubits for n bit number\n",
    "    the first qubit is the control, qubit,the last 2 qubits are a and c respectivly , the other are the data register , the final result is saved in c.\n",
    "    \"\"\"\n",
    "\n",
    "    qubits = list(range(n_qubits))\n",
    "    control = qubits[0]\n",
    "    x = qubits[1:-2]\n",
    "    a = qubits[-2]\n",
    "    c = qubits[-1]\n",
    "    qc = QuantumCircuit(n_qubits,name=\"isLess\")\n",
    "    add_plus_y = Cadder(n_qubits-1,y)\n",
    "    add_minus_y = Cadder(n_qubits-1,-y)\n",
    "    qc.append(add_minus_y,[control]+ x+ [a])\n",
    "    qc.cx(a,c)\n",
    "    qc.append(add_plus_y, [control]+x+ [a])\n",
    "    return qc.to_instruction()"
   ]
  },
  {
   "cell_type": "code",
   "execution_count": 7,
   "metadata": {},
   "outputs": [],
   "source": [
    "def CaddModN(n_qubits, y,N):\n",
    "    \n",
    "    \"\"\"\n",
    "    needs n+4 qubits for an n bit long number\n",
    "    the first qubit is the control, qubit,the last 3 qubits are a , c1 and c2 respectivly , the other are the data register , the final result is saved in c.\n",
    "    \"\"\"\n",
    "    qubits = list(range(n_qubits))\n",
    "    control = qubits[0]\n",
    "    x = qubits[1:-3]\n",
    "    a = qubits[-3]\n",
    "    c1 = qubits[-2]\n",
    "    c2 = qubits[-1]\n",
    "    y = y%N\n",
    "    \n",
    "\n",
    "    qc = QuantumCircuit(n_qubits,name=\"CaddModN\")\n",
    "    isLess_N = CisLess(n_qubits-1,N)\n",
    "    isLess_N_minus_y = CisLess(n_qubits-1,N-y)\n",
    "    isLess_y = CisLess(n_qubits-1,y)\n",
    "    add_y_minus_N = Cadder(n_qubits-3,y-N) #need to be with control a\n",
    "    add_y = Cadder(n_qubits-3,y) #need to be with control a\n",
    "    qc.append(isLess_N,[control]+x+[a]+[c1])\n",
    "    qc.append(isLess_N_minus_y,[control]+x+[a]+[c2])\n",
    "\n",
    "    qc.x(c2)\n",
    "    qc.ccx(c1,c2,a)\n",
    "    qc.x(c2)\n",
    "    qc.append(add_y_minus_N,[a]+x)\n",
    "    qc.x(c2)\n",
    "    qc.ccx(c1,c2,a)\n",
    "    qc.x(c2)\n",
    "\n",
    "    qc.ccx(c1,c2,a)\n",
    "    qc.append(add_y,[a]+x)\n",
    "    qc.ccx(c1,c2,a)\n",
    "\n",
    "\n",
    "    qc.append(isLess_y,[control]+x+[a]+[c2])\n",
    "    qc.cx(c1,c2)\n",
    "    qc.append(isLess_N,[control]+x+[a]+[c1])\n",
    "    return qc.to_instruction()\n"
   ]
  },
  {
   "cell_type": "code",
   "execution_count": 8,
   "metadata": {},
   "outputs": [],
   "source": [
    "x_val =9\n",
    "y_val = 1\n",
    "N_val=11\n",
    "n_qubits = max(int(np.ceil(np.log2(x_val)+1)),int(np.ceil(np.log2(N_val)+1)) ) "
   ]
  },
  {
   "cell_type": "code",
   "execution_count": 9,
   "metadata": {},
   "outputs": [
    {
     "data": {
      "image/png": "[encoded data removed]",
      "text/plain": [
       "<Figure size 1354.93x869.556 with 1 Axes>"
      ]
     },
     "execution_count": 9,
     "metadata": {},
     "output_type": "execute_result"
    }
   ],
   "source": [
    "qr = QuantumRegister(n_qubits,'x')\n",
    "a = QuantumRegister(1,'a')\n",
    "c = QuantumRegister(2,'c')\n",
    "control = QuantumRegister(1,'control')\n",
    "circ = QuantumCircuit(control,qr,a,c)\n",
    "for i in range(n_qubits):\n",
    "        if (x_val & (1 << i)):\n",
    "            circ.x(qr[i])\n",
    "circ.x(control)\n",
    "circ.barrier()\n",
    "\n",
    "circ.append(CaddModN(n_qubits+4,y_val,N_val),circ.qubits[:])\n",
    "circ.measure_all()\n",
    "circ.draw('mpl')\n"
   ]
  },
  {
   "cell_type": "code",
   "execution_count": 10,
   "metadata": {},
   "outputs": [
    {
     "data": {
      "image/png": "[encoded data removed]",
      "text/plain": [
       "<Figure size 700x500 with 1 Axes>"
      ]
     },
     "metadata": {},
     "output_type": "display_data"
    }
   ],
   "source": [
    "sim(circ,AerSimulator(),1000,x_val,y_val,N_val,5)"
   ]
  },
  {
   "cell_type": "code",
   "execution_count": 11,
   "metadata": {},
   "outputs": [],
   "source": [
    "def summands(y,N,n_qubits):\n",
    "    r = np.zeros(n_qubits)\n",
    "    for i in range(0,n_qubits):\n",
    "        s = 0\n",
    "        for j in range(0,n_qubits):\n",
    "            s = s+int(np.binary_repr(y,n_qubits)[::-1][j])*2**(i+j)\n",
    "        r[i] = s % N\n",
    "    return r"
   ]
  },
  {
   "cell_type": "code",
   "execution_count": 12,
   "metadata": {},
   "outputs": [],
   "source": [
    "def eEa(a,b):\n",
    "    if (a==0): \n",
    "        return (b,0,1)\n",
    "    gcd, x,y, = eEa(b%a,a)\n",
    "    return (gcd,y-(b//a)*x,x)\n",
    "\n",
    "def moduloinverse(a,n):\n",
    "    gcd, x,_ = eEa(a,n)\n",
    "    if gcd !=1:\n",
    "        raise VauleError(\"Mod inverse does not exists\")\n",
    "    return x%n"
   ]
  },
  {
   "cell_type": "code",
   "execution_count": 13,
   "metadata": {},
   "outputs": [],
   "source": [
    "def CmultModN(n_qubits,y,N):\n",
    "    \"\"\"\n",
    "    needs a 1+n+n+4 qubits for n qubit number\n",
    "    with the layout control+data+2nd data,auxillary\n",
    "    \"\"\"\n",
    "    qubits = list(range(n_qubits))\n",
    "    n = (n_qubits-5)//2 \n",
    "    control = qubits[0:1]      # length 1\n",
    "    x1 = qubits[1:n+1]   # length n\n",
    "    x2 = qubits[(n+1):2*n+1] # length n  \n",
    "    a = qubits[(2*n+1):]\n",
    "    s = summands(y,N,n)\n",
    "\n",
    "    qc = QuantumCircuit(n_qubits,name=f\"Cmult {y} Mod{N}\")\n",
    "\n",
    "    for i in range(n):\n",
    "        qc.ccx(control,x1[i],a[3])\n",
    "        qc.append(CaddModN(n+4,s[i],N),[a[3]]+x2+[a[2]]+a[0:2])\n",
    "        qc.ccx(control,x1[i],a[3])\n",
    "    for i in range(n):\n",
    "        qc.cswap(control,x1[i],x2[i])\n",
    "    y_inv  = N-moduloinverse(y,N)\n",
    "    s_inv = summands(y_inv,N,n)\n",
    "    for i in range(n):\n",
    "        qc.ccx(control,x1[i],a[3])\n",
    "        qc.append(CaddModN(n+4,s_inv[i],N),[a[3]]+x2+[a[2]]+a[0:2])\n",
    "        qc.ccx(control,x1[i],a[3])\n",
    "    return qc.to_instruction()"
   ]
  },
  {
   "cell_type": "code",
   "execution_count": 14,
   "metadata": {},
   "outputs": [
    {
     "data": {
      "text/plain": [
       "5"
      ]
     },
     "execution_count": 14,
     "metadata": {},
     "output_type": "execute_result"
    }
   ],
   "source": [
    "x_val =9\n",
    "y_val = 2\n",
    "N_val=11\n",
    "# ensures that x register is large enough to fit arbitrary mod N operation\n",
    "n_qubits = max(int(np.ceil(np.log2(x_val)+1)),int(np.ceil(np.log2(N_val)+1)) ) \n",
    "n_qubits"
   ]
  },
  {
   "cell_type": "code",
   "execution_count": 15,
   "metadata": {},
   "outputs": [],
   "source": [
    "qr = QuantumRegister(n_qubits,'x')\n",
    "qr1 = QuantumRegister(n_qubits,'z')\n",
    "a = QuantumRegister(4,'a')\n",
    "# c = QuantumRegister(2,'c')\n",
    "control = QuantumRegister(1,'control')\n",
    "circ1 = QuantumCircuit(control,qr,qr1,a)\n",
    "for i in range(n_qubits):\n",
    "        if (x_val & (1 << i)):\n",
    "            circ1.x(qr[i])\n",
    "circ1.h(control[0])\n",
    "circ1.barrier()\n",
    "circ1.append(CmultModN(circ1.num_qubits,y_val,N_val),circ1.qubits)\n",
    "circ1.measure_all()"
   ]
  },
  {
   "cell_type": "code",
   "execution_count": 16,
   "metadata": {},
   "outputs": [
    {
     "data": {
      "image/png": "[encoded data removed]",
      "text/plain": [
       "<Figure size 700x500 with 1 Axes>"
      ]
     },
     "metadata": {},
     "output_type": "display_data"
    }
   ],
   "source": [
    "simMul(circ1,AerSimulator(),1000,x_val,y_val,N_val,n_qubits)"
   ]
  },
  {
   "cell_type": "code",
   "execution_count": 17,
   "metadata": {},
   "outputs": [],
   "source": [
    "def CexpModN(n_qubits,y,a1,N):\n",
    "    qubits = list(range(n_qubits))\n",
    "    n = (n_qubits-5)//2 \n",
    "    control = qubits[0:1]      # length 1\n",
    "    x1 = qubits[1:n+1]   # length n\n",
    "    x2 = qubits[(n+1):2*n+1] # length n  \n",
    "    a = qubits[(2*n+1):]\n",
    "    qc = QuantumCircuit(n_qubits,name=rf\"C ${y}^{a1}$ Mod${N}$\")\n",
    "    gate = CmultModN(1+n+n+4,y,N)\n",
    "    for _ in range(a1):\n",
    "        qc.append(gate,control+x1+x2+a)\n",
    "    return qc.to_instruction()"
   ]
  },
  {
   "cell_type": "code",
   "execution_count": 18,
   "metadata": {},
   "outputs": [
    {
     "data": {
      "text/plain": [
       "4"
      ]
     },
     "execution_count": 18,
     "metadata": {},
     "output_type": "execute_result"
    }
   ],
   "source": [
    "x_val =1\n",
    "y_val = 3\n",
    "N_val=7\n",
    "# ensures that x register is large enough to fit arbitrary mod N operation\n",
    "n_qubits = max(int(np.ceil(np.log2(x_val)+1)),int(np.ceil(np.log2(N_val)+1)) ) \n",
    "n_qubits"
   ]
  },
  {
   "cell_type": "code",
   "execution_count": null,
   "metadata": {},
   "outputs": [],
   "source": [
    "qr = QuantumRegister(n_qubits,'x')\n",
    "qr1 = QuantumRegister(n_qubits,'z')\n",
    "a = QuantumRegister(4,'a')\n",
    "# c = QuantumRegister(2,'c')\n",
    "control = QuantumRegister(1,'control')\n",
    "circ2 = QuantumCircuit(control,qr,qr1,a)\n",
    "for i in range(n_qubits):\n",
    "        if (x_val & (1 << i)):\n",
    "            circ2.x(qr[i])\n",
    "circ2.x(control[0])\n",
    "circ2.barrier()\n",
    "circ2.append(CexpModN(circ2.num_qubits,y_val,2**3,N_val),circ2.qubits)\n",
    "circ2.measure_all()"
   ]
  },
  {
   "cell_type": "code",
   "execution_count": 20,
   "metadata": {},
   "outputs": [
    {
     "data": {
      "image/png": "[encoded data removed]",
      "text/plain": [
       "<Figure size 700x500 with 1 Axes>"
      ]
     },
     "metadata": {},
     "output_type": "display_data"
    }
   ],
   "source": [
    "simMulExp(circ2, AerSimulator(), 1024,x_val,y_val,2**3,N_val,n_qubits)"
   ]
  },
  {
   "cell_type": "code",
   "execution_count": 21,
   "metadata": {},
   "outputs": [],
   "source": [
    "# circ1.decompose().draw('mpl')"
   ]
  },
  {
   "cell_type": "code",
   "execution_count": 22,
   "metadata": {},
   "outputs": [],
   "source": [
    "def phase_estimation(n_qubits,t,n,m,N):\n",
    "    \"\"\"\n",
    "    expectsd a circuit of t+n+n+4 qubits\n",
    "\n",
    "    with registers qr, qrL,qrL2,a\n",
    "\n",
    "    qr is the uper part of the phase estimation\n",
    "    qrL is the lower part, here is the result of the multimlication saved\n",
    "    qrL2 are the helper qubits of qrL\n",
    "    a are the anchillas\n",
    "    \n",
    "    \"\"\"\n",
    "    qubits = list(range(n_qubits))\n",
    "    qr = qubits[:t]\n",
    "    qrL = qubits[t:t+n]\n",
    "    qrL2 = qubits[t+n: t+2*n]\n",
    "    a = qubits[t+2*n:]\n",
    "    qc = QuantumCircuit(n_qubits,t,name=\"Phase Estimation\")\n",
    "    qc.h(qr)\n",
    "    qc.x(qrL[0]) #hier muss eigenlich 0 hin\n",
    "    for i in range(t):\n",
    "        gate = CmultModN(1+n+n+4,m,N)\n",
    "        for _ in range(2**i):\n",
    "            qc.append(gate,[qr[i]]+qrL+qrL2+a)\n",
    "    qc.append(QFT(t, inverse=True),qr)\n",
    "    qc.measure(qr,qc.clbits)\n",
    "    return qc.to_instruction()"
   ]
  },
  {
   "cell_type": "code",
   "execution_count": 23,
   "metadata": {},
   "outputs": [],
   "source": [
    "n = 3\n",
    "t = 2*n +3\n",
    "# t=2"
   ]
  },
  {
   "cell_type": "code",
   "execution_count": 24,
   "metadata": {},
   "outputs": [
    {
     "data": {
      "text/plain": [
       "<qiskit.circuit.instructionset.InstructionSet at 0x7f3c6c821960>"
      ]
     },
     "execution_count": 24,
     "metadata": {},
     "output_type": "execute_result"
    }
   ],
   "source": [
    "qr = QuantumRegister(t,'t') #these are the top qubits of the phase estimation algorithem\n",
    "qrL = QuantumRegister(n,'L') #here the multiplication is done we need n for the result, n for zwischen result and 4 anchillas\n",
    "qrL2 = QuantumRegister(n,'L2')\n",
    "a = QuantumRegister(4,'a') \n",
    "cl = ClassicalRegister(t)\n",
    "# cl1 = ClassicalRegister(n)\n",
    "qc = QuantumCircuit(qr,qrL,qrL2,a,cl)\n",
    "qc.append(phase_estimation(t+n+n+4,t,n,3,7),qc.qubits,cl)\n",
    "# qc.measure_all()"
   ]
  },
  {
   "cell_type": "code",
   "execution_count": 25,
   "metadata": {},
   "outputs": [],
   "source": [
    "# qc.decompose().draw('mpl')"
   ]
  },
  {
   "cell_type": "code",
   "execution_count": 26,
   "metadata": {},
   "outputs": [],
   "source": [
    "result = simGetCounts(qc,AerSimulator(),10000)"
   ]
  },
  {
   "cell_type": "code",
   "execution_count": 27,
   "metadata": {},
   "outputs": [
    {
     "data": {
      "text/plain": [
       "{'010000011': 1,\n",
       " '010000010': 1,\n",
       " '110000001': 1,\n",
       " '111010100': 1,\n",
       " '010110100': 1,\n",
       " '110000111': 1,\n",
       " '010100001': 1,\n",
       " '011101010': 1,\n",
       " '001100011': 1,\n",
       " '000110000': 1,\n",
       " '101101001': 1,\n",
       " '001001011': 1,\n",
       " '110111110': 1,\n",
       " '101100001': 1,\n",
       " '101101101': 2,\n",
       " '100110010': 1,\n",
       " '111000001': 1,\n",
       " '010000000': 1,\n",
       " '010111010': 2,\n",
       " '101011111': 1,\n",
       " '001100010': 1,\n",
       " '110100011': 2,\n",
       " '110011101': 2,\n",
       " '011101100': 1,\n",
       " '111000100': 1,\n",
       " '011011010': 1,\n",
       " '010110011': 3,\n",
       " '110110100': 2,\n",
       " '001011011': 4,\n",
       " '110100100': 3,\n",
       " '101000011': 1,\n",
       " '010101111': 7,\n",
       " '101011010': 4,\n",
       " '010101000': 18,\n",
       " '111010011': 1,\n",
       " '001011110': 3,\n",
       " '100000100': 1,\n",
       " '001101111': 2,\n",
       " '110010110': 1,\n",
       " '001100100': 1,\n",
       " '001011001': 9,\n",
       " '100011010': 1,\n",
       " '001011000': 24,\n",
       " '001110000': 1,\n",
       " '101100111': 1,\n",
       " '110101000': 23,\n",
       " '001010100': 75,\n",
       " '001000111': 1,\n",
       " '010101001': 38,\n",
       " '010101010': 302,\n",
       " '110111000': 2,\n",
       " '110101010': 234,\n",
       " '010110000': 5,\n",
       " '001100000': 3,\n",
       " '101010010': 9,\n",
       " '010011101': 2,\n",
       " '010010001': 1,\n",
       " '110100000': 3,\n",
       " '010011011': 1,\n",
       " '110100001': 2,\n",
       " '010010011': 1,\n",
       " '101011000': 19,\n",
       " '010100100': 2,\n",
       " '101001000': 1,\n",
       " '001001110': 3,\n",
       " '110100110': 7,\n",
       " '001100001': 1,\n",
       " '011100010': 1,\n",
       " '001010001': 10,\n",
       " '101001010': 1,\n",
       " '001001111': 4,\n",
       " '000111100': 2,\n",
       " '101011001': 8,\n",
       " '110101101': 25,\n",
       " '000110101': 1,\n",
       " '010101101': 27,\n",
       " '001010110': 303,\n",
       " '101001101': 1,\n",
       " '001010011': 26,\n",
       " '001010101': 1151,\n",
       " '010101100': 74,\n",
       " '100000000': 1674,\n",
       " '101110000': 1,\n",
       " '010010000': 1,\n",
       " '110100111': 18,\n",
       " '010110001': 1,\n",
       " '011001010': 1,\n",
       " '101000010': 1,\n",
       " '110011111': 1,\n",
       " '010110111': 1,\n",
       " '001010111': 43,\n",
       " '111111011': 1,\n",
       " '010010101': 1,\n",
       " '010100111': 9,\n",
       " '010101011': 1138,\n",
       " '110101100': 72,\n",
       " '101000101': 1,\n",
       " '101011100': 3,\n",
       " '000001101': 1,\n",
       " '111001110': 1,\n",
       " '000111111': 1,\n",
       " '110010100': 1,\n",
       " '000000000': 1651,\n",
       " '101010101': 1123,\n",
       " '110101110': 17,\n",
       " '110111010': 1,\n",
       " '101100010': 1,\n",
       " '101001001': 2,\n",
       " '111110001': 1,\n",
       " '010011001': 1,\n",
       " '110100101': 8,\n",
       " '001011100': 2,\n",
       " '101000001': 1,\n",
       " '101010110': 294,\n",
       " '010100010': 3,\n",
       " '101001111': 7,\n",
       " '001000110': 1,\n",
       " '001011010': 5,\n",
       " '011111011': 1,\n",
       " '010100110': 4,\n",
       " '101011011': 3,\n",
       " '101010011': 17,\n",
       " '110001001': 1,\n",
       " '011011001': 1,\n",
       " '000111011': 2,\n",
       " '010110010': 3,\n",
       " '010100101': 3,\n",
       " '101010000': 6,\n",
       " '001001001': 1,\n",
       " '001001101': 2,\n",
       " '101010001': 3,\n",
       " '110101011': 1131,\n",
       " '101001100': 2,\n",
       " '111111100': 1,\n",
       " '110110001': 2,\n",
       " '110101111': 5,\n",
       " '110011010': 2,\n",
       " '001001100': 4,\n",
       " '101001110': 3,\n",
       " '101010111': 45,\n",
       " '000111001': 1,\n",
       " '011010110': 1,\n",
       " '010101110': 9,\n",
       " '000101010': 1,\n",
       " '001011101': 2,\n",
       " '101011101': 1,\n",
       " '110011100': 1,\n",
       " '001111000': 1,\n",
       " '110110000': 2,\n",
       " '100110111': 1,\n",
       " '100111011': 1,\n",
       " '010110110': 2,\n",
       " '001001010': 2,\n",
       " '100000011': 1,\n",
       " '001100110': 1,\n",
       " '101010100': 76,\n",
       " '101100000': 1,\n",
       " '110010101': 1,\n",
       " '001010000': 3,\n",
       " '001010010': 10,\n",
       " '110111100': 1,\n",
       " '010001100': 1,\n",
       " '010011110': 1,\n",
       " '110101001': 59,\n",
       " '010011100': 1,\n",
       " '001000011': 1,\n",
       " '110010000': 1}"
      ]
     },
     "execution_count": 27,
     "metadata": {},
     "output_type": "execute_result"
    }
   ],
   "source": [
    "result"
   ]
  },
  {
   "cell_type": "code",
   "execution_count": 28,
   "metadata": {},
   "outputs": [
    {
     "data": {
      "text/plain": [
       "167"
      ]
     },
     "execution_count": 28,
     "metadata": {},
     "output_type": "execute_result"
    }
   ],
   "source": [
    "len(result)"
   ]
  },
  {
   "cell_type": "code",
   "execution_count": 29,
   "metadata": {},
   "outputs": [],
   "source": [
    "np.savetxt(\"counts_my_implemenmtation_with_3mod7.txt\",np.array(list(result.items()),dtype=int),fmt='%.0f')"
   ]
  },
  {
   "cell_type": "code",
   "execution_count": 30,
   "metadata": {},
   "outputs": [],
   "source": [
    "def continued_fraction_iterative(x, iter):\n",
    "    if iter == 0 or isinstance(x, int):\n",
    "        return int(np.floor(x))\n",
    "    \n",
    "    # Store the terms in reverse order\n",
    "    terms = []\n",
    "    current_x = x\n",
    "    \n",
    "    # Calculate all floor values first\n",
    "    for _ in range(iter):\n",
    "        floor_val = int(np.floor(current_x))\n",
    "        terms.append(floor_val)\n",
    "        \n",
    "        # Break if we have a whole number\n",
    "        if np.mod(current_x, 1) == 0:\n",
    "            break\n",
    "            \n",
    "        current_x = 1/np.mod(current_x, 1)\n",
    "    \n",
    "    # Build the fraction from bottom up\n",
    "    result = terms[-1]  # Start with the last term\n",
    "    \n",
    "    # Work backwards through the terms\n",
    "    for term in reversed(terms[:-1]):\n",
    "        result = term + Fraction(1, result)\n",
    "    \n",
    "    return result"
   ]
  },
  {
   "cell_type": "code",
   "execution_count": 35,
   "metadata": {},
   "outputs": [],
   "source": [
    "def get_order(phi,x,N):\n",
    "    k=1\n",
    "    estimated_r = continued_fraction_iterative(phi,k)\n",
    "    while estimated_r.denominator<N and  k< 1000:\n",
    "        r = estimated_r.denominator\n",
    "        if pow(x,r,N) == 1:\n",
    "            print(f\"{k} itertations where needed\")\n",
    "            return r\n",
    "        k+=1\n",
    "        estimated_r = continued_fraction_iterative(phi,k)"
   ]
  },
  {
   "cell_type": "code",
   "execution_count": 46,
   "metadata": {},
   "outputs": [
    {
     "name": "stdout",
     "output_type": "stream",
     "text": [
      "2 itertations where needed\n",
      "4 itertations where needed\n",
      "3 itertations where needed\n",
      "3 itertations where needed\n",
      "4 itertations where needed\n",
      "3 itertations where needed\n",
      "3 itertations where needed\n",
      "4 itertations where needed\n",
      "2 itertations where needed\n",
      "4 itertations where needed\n",
      "2 itertations where needed\n",
      "4 itertations where needed\n",
      "2 itertations where needed\n",
      "2 itertations where needed\n",
      "3 itertations where needed\n",
      "3 itertations where needed\n",
      "2 itertations where needed\n",
      "2 itertations where needed\n",
      "4 itertations where needed\n",
      "3 itertations where needed\n",
      "3 itertations where needed\n",
      "3 itertations where needed\n",
      "4 itertations where needed\n",
      "3 itertations where needed\n",
      "3 itertations where needed\n",
      "2 itertations where needed\n",
      "3 itertations where needed\n",
      "3 itertations where needed\n",
      "3 itertations where needed\n",
      "2 itertations where needed\n",
      "3 itertations where needed\n",
      "3 itertations where needed\n",
      "2 itertations where needed\n",
      "2 itertations where needed\n",
      "2 itertations where needed\n",
      "4 itertations where needed\n"
     ]
    }
   ],
   "source": [
    "orders = []\n",
    "for i in result:\n",
    "    order = get_order(int(i,2)/2**t,3,7)\n",
    "    if  isinstance(order,int):\n",
    "        orders.append(order)"
   ]
  },
  {
   "cell_type": "code",
   "execution_count": 47,
   "metadata": {},
   "outputs": [
    {
     "data": {
      "text/plain": [
       "[6,\n",
       " 6,\n",
       " 6,\n",
       " 6,\n",
       " 6,\n",
       " 6,\n",
       " 6,\n",
       " 6,\n",
       " 6,\n",
       " 6,\n",
       " 6,\n",
       " 6,\n",
       " 6,\n",
       " 6,\n",
       " 6,\n",
       " 6,\n",
       " 6,\n",
       " 6,\n",
       " 6,\n",
       " 6,\n",
       " 6,\n",
       " 6,\n",
       " 6,\n",
       " 6,\n",
       " 6,\n",
       " 6,\n",
       " 6,\n",
       " 6,\n",
       " 6,\n",
       " 6,\n",
       " 6,\n",
       " 6,\n",
       " 6,\n",
       " 6,\n",
       " 6,\n",
       " 6]"
      ]
     },
     "execution_count": 47,
     "metadata": {},
     "output_type": "execute_result"
    }
   ],
   "source": [
    "orders"
   ]
  },
  {
   "cell_type": "code",
   "execution_count": 48,
   "metadata": {},
   "outputs": [
    {
     "data": {
      "text/plain": [
       "np.int64(6)"
      ]
     },
     "execution_count": 48,
     "metadata": {},
     "output_type": "execute_result"
    }
   ],
   "source": [
    "np.lcm.reduce(orders)"
   ]
  },
  {
   "cell_type": "code",
   "execution_count": 49,
   "metadata": {},
   "outputs": [
    {
     "data": {
      "text/plain": [
       "21.55688622754491"
      ]
     },
     "execution_count": 49,
     "metadata": {},
     "output_type": "execute_result"
    }
   ],
   "source": [
    "len(orders)/len(result)*100"
   ]
  },
  {
   "cell_type": "code",
   "execution_count": 50,
   "metadata": {},
   "outputs": [
    {
     "data": {
      "text/plain": [
       "167"
      ]
     },
     "execution_count": 50,
     "metadata": {},
     "output_type": "execute_result"
    }
   ],
   "source": [
    "len(result)"
   ]
  },
  {
   "cell_type": "code",
   "execution_count": null,
   "metadata": {},
   "outputs": [],
   "source": []
  }
 ],
 "metadata": {
  "kernelspec": {
   "display_name": "qiskit1",
   "language": "python",
   "name": "python3"
  },
  "language_info": {
   "codemirror_mode": {
    "name": "ipython",
    "version": 3
   },
   "file_extension": ".py",
   "mimetype": "text/x-python",
   "name": "python",
   "nbconvert_exporter": "python",
   "pygments_lexer": "ipython3",
   "version": "3.11.10"
  }
 },
 "nbformat": 4,
 "nbformat_minor": 2
}
