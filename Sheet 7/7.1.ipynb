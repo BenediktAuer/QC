{
 "cells": [
  {
   "cell_type": "markdown",
   "metadata": {},
   "source": [
    "We implemented the division-based Euklid algorithm"
   ]
  },
  {
   "cell_type": "code",
   "execution_count": null,
   "metadata": {},
   "outputs": [],
   "source": [
    "function OwnGcd(a,b)\n",
    "    while b ≠ 0\n",
    "        t = b\n",
    "        b = a %b\n",
    "        a = t\n",
    "    end\n",
    "    return abs(a)\n",
    "end"
   ]
  },
  {
   "cell_type": "markdown",
   "metadata": {},
   "source": [
    "To test the code we genreater random integers and compare our fdunction to the build in one."
   ]
  },
  {
   "cell_type": "code",
   "execution_count": null,
   "metadata": {},
   "outputs": [],
   "source": [
    "for _ in 1:10\n",
    "    a = rand(Int16)\n",
    "    b = rand(Int16)\n",
    "    @show gcd(a,b)\n",
    "    @assert OwnGcd(a,b) == gcd(a,b)\n",
    "end"
   ]
  },
  {
   "cell_type": "code",
   "execution_count": null,
   "metadata": {},
   "outputs": [],
   "source": [
    "function findPeriod(a,N)\n",
    "    x = 1\n",
    "    result = a % N\n",
    "    while result != 1\n",
    "        result = (result * a) % N\n",
    "        x += 1\n",
    "    end\n",
    "    return x\n",
    "end"
   ]
  },
  {
   "cell_type": "code",
   "execution_count": null,
   "metadata": {},
   "outputs": [],
   "source": [
    "function findPrimeFactors(N)\n",
    "    while true\n",
    "    a = rand(1:N-1)\n",
    "    d = OwnGcd(a, N)\n",
    "    if d != 1\n",
    "        return d\n",
    "    end\n",
    "    r = findPeriod(a, N)\n",
    "    if r % 2 == 1\n",
    "        continue\n",
    "    end\n",
    "    a_r_half = powermod(a, r ÷ 2, N)\n",
    "    if a_r_half == N - 1\n",
    "        continue\n",
    "    end\n",
    "    return OwnGcd(a_r_half + 1, N), OwnGcd(a_r_half - 1, N)\n",
    "end\n",
    "end"
   ]
  }
 ],
 "metadata": {
  "kernelspec": {
   "display_name": "Julia 1.11.1",
   "language": "julia",
   "name": "julia-1.11"
  },
  "language_info": {
   "file_extension": ".jl",
   "mimetype": "application/julia",
   "name": "julia",
   "version": "1.11.1"
  }
 },
 "nbformat": 4,
 "nbformat_minor": 2
}
