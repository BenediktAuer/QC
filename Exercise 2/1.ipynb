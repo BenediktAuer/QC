{
 "cells": [
  {
   "cell_type": "code",
   "execution_count": 17,
   "metadata": {},
   "outputs": [],
   "source": [
    "import qiskit\n",
    "from qiskit.quantum_info import Statevector\n",
    "from qiskit.circuit.library import QFT\n",
    "import numpy as np"
   ]
  },
  {
   "cell_type": "code",
   "execution_count": 18,
   "metadata": {},
   "outputs": [],
   "source": [
    "def get_amp(x,k):\n",
    "    return 1/np.sqrt(2**4)*np.exp(-1j*2*np.pi*x*k/16)"
   ]
  },
  {
   "cell_type": "code",
   "execution_count": 19,
   "metadata": {},
   "outputs": [],
   "source": [
    "amps = [get_amp(1/4,k) for k in range(0,16)]"
   ]
  },
  {
   "cell_type": "code",
   "execution_count": 20,
   "metadata": {},
   "outputs": [
    {
     "data": {
      "text/html": [
       "<pre style=\"word-wrap: normal;white-space: pre;background: #fff0;line-height: 1.1;font-family: &quot;Courier New&quot;,Courier,monospace\">     »\n",
       "q_0: »\n",
       "     »\n",
       "q_1: »\n",
       "     »\n",
       "q_2: »\n",
       "     »\n",
       "q_3: »\n",
       "     »\n",
       "«     ┌────────────────────────────────────────────────────────────────────────────────────────────────────────────────────────────────────────────────────────────────────────────────────────────────────────────────────────────────────────────────────────────────────────────────────┐»\n",
       "«q_0: ┤0                                                                                                                                                                                                                                                                                   ├»\n",
       "«     │                                                                                                                                                                                                                                                                                    │»\n",
       "«q_1: ┤1                                                                                                                                                                                                                                                                                   ├»\n",
       "«     │  Initialize(0.25,0.2488-0.024504j,0.2452-0.048773j,0.23924-0.072571j,0.23097-0.095671j,0.22048-0.11785j,0.20787-0.13889j,0.19325-0.1586j,0.17678-0.17678j,0.1586-0.19325j,0.13889-0.20787j,0.11785-0.22048j,0.095671-0.23097j,0.072571-0.23924j,0.048773-0.2452j,0.024504-0.2488j) │»\n",
       "«q_2: ┤2                                                                                                                                                                                                                                                                                   ├»\n",
       "«     │                                                                                                                                                                                                                                                                                    │»\n",
       "«q_3: ┤3                                                                                                                                                                                                                                                                                   ├»\n",
       "«     └────────────────────────────────────────────────────────────────────────────────────────────────────────────────────────────────────────────────────────────────────────────────────────────────────────────────────────────────────────────────────────────────────────────────────┘»\n",
       "«     ┌──────┐\n",
       "«q_0: ┤0     ├\n",
       "«     │      │\n",
       "«q_1: ┤1     ├\n",
       "«     │  QFT │\n",
       "«q_2: ┤2     ├\n",
       "«     │      │\n",
       "«q_3: ┤3     ├\n",
       "«     └──────┘</pre>"
      ],
      "text/plain": [
       "     »\n",
       "q_0: »\n",
       "     »\n",
       "q_1: »\n",
       "     »\n",
       "q_2: »\n",
       "     »\n",
       "q_3: »\n",
       "     »\n",
       "«     ┌────────────────────────────────────────────────────────────────────────────────────────────────────────────────────────────────────────────────────────────────────────────────────────────────────────────────────────────────────────────────────────────────────────────────────┐»\n",
       "«q_0: ┤0                                                                                                                                                                                                                                                                                   ├»\n",
       "«     │                                                                                                                                                                                                                                                                                    │»\n",
       "«q_1: ┤1                                                                                                                                                                                                                                                                                   ├»\n",
       "«     │  Initialize(0.25,0.2488-0.024504j,0.2452-0.048773j,0.23924-0.072571j,0.23097-0.095671j,0.22048-0.11785j,0.20787-0.13889j,0.19325-0.1586j,0.17678-0.17678j,0.1586-0.19325j,0.13889-0.20787j,0.11785-0.22048j,0.095671-0.23097j,0.072571-0.23924j,0.048773-0.2452j,0.024504-0.2488j) │»\n",
       "«q_2: ┤2                                                                                                                                                                                                                                                                                   ├»\n",
       "«     │                                                                                                                                                                                                                                                                                    │»\n",
       "«q_3: ┤3                                                                                                                                                                                                                                                                                   ├»\n",
       "«     └────────────────────────────────────────────────────────────────────────────────────────────────────────────────────────────────────────────────────────────────────────────────────────────────────────────────────────────────────────────────────────────────────────────────────┘»\n",
       "«     ┌──────┐\n",
       "«q_0: ┤0     ├\n",
       "«     │      │\n",
       "«q_1: ┤1     ├\n",
       "«     │  QFT │\n",
       "«q_2: ┤2     ├\n",
       "«     │      │\n",
       "«q_3: ┤3     ├\n",
       "«     └──────┘"
      ]
     },
     "execution_count": 20,
     "metadata": {},
     "output_type": "execute_result"
    }
   ],
   "source": [
    "circ = qiskit.QuantumCircuit(4)\n",
    "circ.initialize(amps)\n",
    "# See the circuit:\n",
    "circ.append(QFT(4),range(4))\n",
    "circ.draw()"
   ]
  },
  {
   "cell_type": "code",
   "execution_count": 21,
   "metadata": {},
   "outputs": [
    {
     "data": {
      "text/latex": [
       "$$(0.6673583633 - 0.6048583633 i) |0000\\rangle+(-0.1794203877 + 0.2419203877 i) |0001\\rangle+(-0.0560878991 + 0.1185878991 i) |0010\\rangle+(-0.0208874752 + 0.0833874752 i) |0011\\rangle+(-0.0032290617 + 0.0657290617 i) |0100\\rangle+(0.0080734204 + 0.0544265796 i) |0101\\rangle+(0.0164698508 + 0.0460301492 i) |0110\\rangle+(0.0234222825 + 0.0390777175 i) |0111\\rangle+(0.0297147859 + 0.0327852141 i) |1000\\rangle+(0.0358854996 + 0.0266145004 i) |1001\\rangle+(0.0424314288 + 0.0200685712 i) |1010\\rangle+(0.0499805292 + 0.0125194708 i) |1011\\rangle+(0.059573349 + 0.002926651 i) |1100\\rangle+(0.0733857473 - 0.0108857473 i) |1101\\rangle+(0.0973225737 - 0.0348225737 i) |1110\\rangle+(0.1560069932 - 0.0935069932 i) |1111\\rangle$$"
      ],
      "text/plain": [
       "<IPython.core.display.Latex object>"
      ]
     },
     "execution_count": 21,
     "metadata": {},
     "output_type": "execute_result"
    }
   ],
   "source": [
    "sv = Statevector.from_instruction(circ)\n",
    "sv.draw('latex',max_size = 256)"
   ]
  },
  {
   "cell_type": "code",
   "execution_count": 22,
   "metadata": {},
   "outputs": [
    {
     "data": {
      "text/plain": [
       "array([0.81122082, 0.09071715, 0.01720894, 0.00738976, 0.00433074,\n",
       "       0.00302743, 0.00239003, 0.00207567, 0.00195784, 0.0019961 ,\n",
       "       0.00220317, 0.00265479, 0.00355755, 0.00550397, 0.01068429,\n",
       "       0.03308174])"
      ]
     },
     "execution_count": 22,
     "metadata": {},
     "output_type": "execute_result"
    }
   ],
   "source": [
    "probs = sv.probabilities()\n",
    "probs"
   ]
  },
  {
   "cell_type": "code",
   "execution_count": 23,
   "metadata": {},
   "outputs": [
    {
     "data": {
      "text/plain": [
       "np.float64(0.9019379741530797)"
      ]
     },
     "execution_count": 23,
     "metadata": {},
     "output_type": "execute_result"
    }
   ],
   "source": [
    "probs[0]+probs[1]"
   ]
  },
  {
   "cell_type": "code",
   "execution_count": 24,
   "metadata": {},
   "outputs": [
    {
     "data": {
      "text/html": [
       "<pre style=\"word-wrap: normal;white-space: pre;background: #fff0;line-height: 1.1;font-family: &quot;Courier New&quot;,Courier,monospace\">     ┌──────────────────────────────────────────────────────┐┌──────┐\n",
       "q_0: ┤0                                                     ├┤0     ├\n",
       "     │                                                      ││      │\n",
       "q_1: ┤1                                                     ├┤1     ├\n",
       "     │  Initialize(0.5,0,0,0,0.5,0,0,0,0.5,0,0,0,0.5,0,0,0) ││  QFT │\n",
       "q_2: ┤2                                                     ├┤2     ├\n",
       "     │                                                      ││      │\n",
       "q_3: ┤3                                                     ├┤3     ├\n",
       "     └──────────────────────────────────────────────────────┘└──────┘</pre>"
      ],
      "text/plain": [
       "     ┌──────────────────────────────────────────────────────┐┌──────┐\n",
       "q_0: ┤0                                                     ├┤0     ├\n",
       "     │                                                      ││      │\n",
       "q_1: ┤1                                                     ├┤1     ├\n",
       "     │  Initialize(0.5,0,0,0,0.5,0,0,0,0.5,0,0,0,0.5,0,0,0) ││  QFT │\n",
       "q_2: ┤2                                                     ├┤2     ├\n",
       "     │                                                      ││      │\n",
       "q_3: ┤3                                                     ├┤3     ├\n",
       "     └──────────────────────────────────────────────────────┘└──────┘"
      ]
     },
     "execution_count": 24,
     "metadata": {},
     "output_type": "execute_result"
    }
   ],
   "source": [
    "circ = qiskit.QuantumCircuit(4)\n",
    "circ.initialize(1/2*np.array([1,0,0,0,1,0,0,0,1,0,0,0,1,0,0,0]))\n",
    "# See the circuit:\n",
    "circ.append(QFT(4),range(4))\n",
    "circ.draw()"
   ]
  },
  {
   "cell_type": "code",
   "execution_count": 25,
   "metadata": {},
   "outputs": [
    {
     "data": {
      "text/latex": [
       "$$\\frac{1}{2} |0000\\rangle+\\frac{1}{2} |0100\\rangle+\\frac{1}{2} |1000\\rangle+\\frac{1}{2} |1100\\rangle$$"
      ],
      "text/plain": [
       "<IPython.core.display.Latex object>"
      ]
     },
     "execution_count": 25,
     "metadata": {},
     "output_type": "execute_result"
    }
   ],
   "source": [
    "sv = Statevector.from_instruction(circ)\n",
    "sv.draw('latex',max_size = 256)"
   ]
  },
  {
   "cell_type": "code",
   "execution_count": null,
   "metadata": {},
   "outputs": [],
   "source": []
  }
 ],
 "metadata": {
  "kernelspec": {
   "display_name": "qiskit1",
   "language": "python",
   "name": "python3"
  },
  "language_info": {
   "codemirror_mode": {
    "name": "ipython",
    "version": 3
   },
   "file_extension": ".py",
   "mimetype": "text/x-python",
   "name": "python",
   "nbconvert_exporter": "python",
   "pygments_lexer": "ipython3",
   "version": "3.11.10"
  }
 },
 "nbformat": 4,
 "nbformat_minor": 2
}
