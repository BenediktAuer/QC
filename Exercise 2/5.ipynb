{
 "cells": [
  {
   "cell_type": "code",
   "execution_count": 1,
   "metadata": {},
   "outputs": [],
   "source": [
    "import qiskit\n",
    "from qiskit_aer import Aer\n",
    "from qiskit_aer import AerSimulator\n",
    "import numpy as np"
   ]
  },
  {
   "cell_type": "code",
   "execution_count": 47,
   "metadata": {},
   "outputs": [
    {
     "data": {
      "text/html": [
       "<pre style=\"word-wrap: normal;white-space: pre;background: #fff0;line-height: 1.1;font-family: &quot;Courier New&quot;,Courier,monospace\">                          ┌────────┐ unitary \n",
       "q_0: ──■───────────────■──┤ P(0.5) ├────░────\n",
       "     ┌─┴─┐┌─────────┐┌─┴─┐├────────┤    ░    \n",
       "q_1: ┤ X ├┤ P(-0.5) ├┤ X ├┤ P(0.5) ├────░────\n",
       "     └───┘└─────────┘└───┘└────────┘    ░    </pre>"
      ],
      "text/plain": [
       "                          ┌────────┐ unitary \n",
       "q_0: ──■───────────────■──┤ P(0.5) ├────░────\n",
       "     ┌─┴─┐┌─────────┐┌─┴─┐├────────┤    ░    \n",
       "q_1: ┤ X ├┤ P(-0.5) ├┤ X ├┤ P(0.5) ├────░────\n",
       "     └───┘└─────────┘└───┘└────────┘    ░    "
      ]
     },
     "execution_count": 47,
     "metadata": {},
     "output_type": "execute_result"
    }
   ],
   "source": [
    "circuit = qiskit.QuantumCircuit(2)\n",
    "circuit.cx(0,1)\n",
    "circuit.p(-1/2,1)\n",
    "circuit.cx(0,1)\n",
    "circuit.p(1/2,0)\n",
    "circuit.p(1/2,1)\n",
    "circuit.save_unitary()\n",
    "circuit.draw()\n"
   ]
  },
  {
   "cell_type": "code",
   "execution_count": 48,
   "metadata": {},
   "outputs": [
    {
     "name": "stdout",
     "output_type": "stream",
     "text": [
      "Circuit unitary:\n",
      " [[1.    +0.j      0.    +0.j      0.    +0.j      0.    +0.j     ]\n",
      " [0.    +0.j      1.    +0.j      0.    +0.j      0.    +0.j     ]\n",
      " [0.    +0.j      0.    +0.j      1.    +0.j      0.    +0.j     ]\n",
      " [0.    +0.j      0.    +0.j      0.    +0.j      0.5403+0.84147j]]\n"
     ]
    }
   ],
   "source": [
    "simulator = AerSimulator(method =\"unitary\")\n",
    "circ = qiskit.transpile(circuit, simulator)\n",
    "\n",
    "result = simulator.run(circ).result()\n",
    "unitary = result.get_unitary(circ)\n",
    "print(\"Circuit unitary:\\n\", np.asarray(unitary).round(5))"
   ]
  },
  {
   "cell_type": "code",
   "execution_count": 50,
   "metadata": {},
   "outputs": [
    {
     "name": "stdout",
     "output_type": "stream",
     "text": [
      "Circuit unitary:\n",
      " [[1.    +0.j      0.    +0.j      0.    +0.j      0.    +0.j     ]\n",
      " [0.    +0.j      1.    +0.j      0.    +0.j      0.    +0.j     ]\n",
      " [0.    +0.j      0.    +0.j      1.    +0.j      0.    +0.j     ]\n",
      " [0.    +0.j      0.    +0.j      0.    +0.j      0.5403+0.84147j]]\n"
     ]
    }
   ],
   "source": [
    "circuit = qiskit.QuantumCircuit(2)\n",
    "circuit.cp(1,0,1)\n",
    "circuit.save_unitary()\n",
    "circuit.draw()\n",
    "simulator = AerSimulator(method =\"unitary\")\n",
    "circ = qiskit.transpile(circuit, simulator)\n",
    "\n",
    "result = simulator.run(circ).result()\n",
    "unitary = result.get_unitary(circ)\n",
    "print(\"Circuit unitary:\\n\", np.asarray(unitary).round(5))\n"
   ]
  },
  {
   "cell_type": "code",
   "execution_count": null,
   "metadata": {},
   "outputs": [],
   "source": []
  }
 ],
 "metadata": {
  "kernelspec": {
   "display_name": "qiskit1",
   "language": "python",
   "name": "python3"
  },
  "language_info": {
   "codemirror_mode": {
    "name": "ipython",
    "version": 3
   },
   "file_extension": ".py",
   "mimetype": "text/x-python",
   "name": "python",
   "nbconvert_exporter": "python",
   "pygments_lexer": "ipython3",
   "version": "3.11.10"
  }
 },
 "nbformat": 4,
 "nbformat_minor": 2
}
